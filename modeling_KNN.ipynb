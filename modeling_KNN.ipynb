{
 "cells": [
  {
   "cell_type": "code",
   "execution_count": 1,
   "metadata": {},
   "outputs": [],
   "source": [
    "# Import Libraries for use\n",
    "import pickle\n",
    "import pandas as pd\n",
    "import pandas as pd\n",
    "import matplotlib.pyplot as plt\n",
    "import seaborn as sb\n",
    "import numpy as np\n",
    "import os \n",
    "import glob\n",
    "from sklearn.feature_selection import VarianceThreshold\n",
    "from sklearn.model_selection import train_test_split\n",
    "from sklearn.preprocessing import StandardScaler"
   ]
  },
  {
   "cell_type": "code",
   "execution_count": 2,
   "metadata": {},
   "outputs": [],
   "source": [
    "# this is the path to your pickle file (should be the same location as CSVs)\n",
    "# this path has been changed for GitHub purposes\n",
    "path = r'..FINAL'"
   ]
  },
  {
   "cell_type": "code",
   "execution_count": 9,
   "metadata": {},
   "outputs": [],
   "source": [
    "# the below function verifies that the dataframe you are working with is the same shape as the anticipated dataframe\n",
    "def test_dataframe_shape():\n",
    "    # load the dataframe to be tested\n",
    "    with open(f'{path}/working_df2.pkl', 'rb') as file:\n",
    "        df = pickle.load(file)\n",
    "    # Perform the shape validation\n",
    "   # assert df.shape == (27572, 31)\n",
    "    return df"
   ]
  },
  {
   "cell_type": "code",
   "execution_count": 10,
   "metadata": {},
   "outputs": [],
   "source": [
    "df = test_dataframe_shape().reset_index(drop=True)"
   ]
  },
  {
   "cell_type": "code",
   "execution_count": 11,
   "metadata": {},
   "outputs": [
    {
     "data": {
      "text/html": [
       "<div>\n",
       "<style scoped>\n",
       "    .dataframe tbody tr th:only-of-type {\n",
       "        vertical-align: middle;\n",
       "    }\n",
       "\n",
       "    .dataframe tbody tr th {\n",
       "        vertical-align: top;\n",
       "    }\n",
       "\n",
       "    .dataframe thead th {\n",
       "        text-align: right;\n",
       "    }\n",
       "</style>\n",
       "<table border=\"1\" class=\"dataframe\">\n",
       "  <thead>\n",
       "    <tr style=\"text-align: right;\">\n",
       "      <th></th>\n",
       "      <th>Heading(mag)</th>\n",
       "      <th>Vert. Speed</th>\n",
       "      <th>Compass Heading</th>\n",
       "      <th>Roll Rate</th>\n",
       "      <th>Pitch Rate</th>\n",
       "      <th>Pitch Path</th>\n",
       "      <th>Heading Path</th>\n",
       "      <th>Flight Path Angle - VV-[0]</th>\n",
       "      <th>Ground Track - VV-[0]</th>\n",
       "      <th>Roll Acceleration</th>\n",
       "      <th>...</th>\n",
       "      <th>Swashplate Phase</th>\n",
       "      <th>GPS 1 DME Distance</th>\n",
       "      <th>GPS 1 DME Speed</th>\n",
       "      <th>NAV 1 DME Time</th>\n",
       "      <th>NAV 1 DME Speed</th>\n",
       "      <th>NAV 2 NAV ID</th>\n",
       "      <th>GPS Hor Deviation</th>\n",
       "      <th>Label</th>\n",
       "      <th>Dynamic Rollover</th>\n",
       "      <th>LOW-G</th>\n",
       "    </tr>\n",
       "  </thead>\n",
       "  <tbody>\n",
       "    <tr>\n",
       "      <th>0</th>\n",
       "      <td>39.5754</td>\n",
       "      <td>-104.846953</td>\n",
       "      <td>5888.74</td>\n",
       "      <td>0.02</td>\n",
       "      <td>260.843</td>\n",
       "      <td>268.755</td>\n",
       "      <td>0.550</td>\n",
       "      <td>0.077</td>\n",
       "      <td>268.658</td>\n",
       "      <td>-18.613</td>\n",
       "      <td>...</td>\n",
       "      <td>1.0</td>\n",
       "      <td>1.0</td>\n",
       "      <td>356.080</td>\n",
       "      <td>260.854</td>\n",
       "      <td>260.854</td>\n",
       "      <td>2.521</td>\n",
       "      <td>-1.577</td>\n",
       "      <td>NaN</td>\n",
       "      <td>0</td>\n",
       "      <td>0</td>\n",
       "    </tr>\n",
       "    <tr>\n",
       "      <th>1</th>\n",
       "      <td>39.5754</td>\n",
       "      <td>-104.846953</td>\n",
       "      <td>5888.75</td>\n",
       "      <td>0.03</td>\n",
       "      <td>260.815</td>\n",
       "      <td>268.728</td>\n",
       "      <td>0.519</td>\n",
       "      <td>0.122</td>\n",
       "      <td>268.631</td>\n",
       "      <td>-18.616</td>\n",
       "      <td>...</td>\n",
       "      <td>1.0</td>\n",
       "      <td>1.0</td>\n",
       "      <td>354.501</td>\n",
       "      <td>260.829</td>\n",
       "      <td>260.829</td>\n",
       "      <td>2.716</td>\n",
       "      <td>-1.995</td>\n",
       "      <td>NaN</td>\n",
       "      <td>0</td>\n",
       "      <td>0</td>\n",
       "    </tr>\n",
       "    <tr>\n",
       "      <th>2</th>\n",
       "      <td>39.5754</td>\n",
       "      <td>-104.846953</td>\n",
       "      <td>5888.76</td>\n",
       "      <td>0.04</td>\n",
       "      <td>260.782</td>\n",
       "      <td>268.695</td>\n",
       "      <td>0.480</td>\n",
       "      <td>0.166</td>\n",
       "      <td>268.598</td>\n",
       "      <td>-15.897</td>\n",
       "      <td>...</td>\n",
       "      <td>1.0</td>\n",
       "      <td>1.0</td>\n",
       "      <td>352.893</td>\n",
       "      <td>260.799</td>\n",
       "      <td>260.799</td>\n",
       "      <td>2.537</td>\n",
       "      <td>-2.341</td>\n",
       "      <td>NaN</td>\n",
       "      <td>0</td>\n",
       "      <td>0</td>\n",
       "    </tr>\n",
       "    <tr>\n",
       "      <th>3</th>\n",
       "      <td>39.5754</td>\n",
       "      <td>-104.846953</td>\n",
       "      <td>5888.77</td>\n",
       "      <td>0.05</td>\n",
       "      <td>260.740</td>\n",
       "      <td>268.652</td>\n",
       "      <td>0.425</td>\n",
       "      <td>0.211</td>\n",
       "      <td>268.555</td>\n",
       "      <td>-11.346</td>\n",
       "      <td>...</td>\n",
       "      <td>1.0</td>\n",
       "      <td>1.0</td>\n",
       "      <td>350.959</td>\n",
       "      <td>260.761</td>\n",
       "      <td>260.761</td>\n",
       "      <td>1.964</td>\n",
       "      <td>-2.674</td>\n",
       "      <td>NaN</td>\n",
       "      <td>0</td>\n",
       "      <td>0</td>\n",
       "    </tr>\n",
       "    <tr>\n",
       "      <th>4</th>\n",
       "      <td>39.5754</td>\n",
       "      <td>-104.846953</td>\n",
       "      <td>5888.77</td>\n",
       "      <td>0.05</td>\n",
       "      <td>260.686</td>\n",
       "      <td>268.599</td>\n",
       "      <td>0.351</td>\n",
       "      <td>0.241</td>\n",
       "      <td>268.502</td>\n",
       "      <td>-8.163</td>\n",
       "      <td>...</td>\n",
       "      <td>1.0</td>\n",
       "      <td>1.0</td>\n",
       "      <td>348.617</td>\n",
       "      <td>260.713</td>\n",
       "      <td>260.713</td>\n",
       "      <td>0.885</td>\n",
       "      <td>-2.934</td>\n",
       "      <td>NaN</td>\n",
       "      <td>0</td>\n",
       "      <td>0</td>\n",
       "    </tr>\n",
       "  </tbody>\n",
       "</table>\n",
       "<p>5 rows × 32 columns</p>\n",
       "</div>"
      ],
      "text/plain": [
       "  Heading(mag)  Vert. Speed  Compass Heading  Roll Rate  Pitch Rate  \\\n",
       "0      39.5754  -104.846953          5888.74       0.02     260.843   \n",
       "1      39.5754  -104.846953          5888.75       0.03     260.815   \n",
       "2      39.5754  -104.846953          5888.76       0.04     260.782   \n",
       "3      39.5754  -104.846953          5888.77       0.05     260.740   \n",
       "4      39.5754  -104.846953          5888.77       0.05     260.686   \n",
       "\n",
       "   Pitch Path  Heading Path  Flight Path Angle - VV-[0]  \\\n",
       "0     268.755         0.550                       0.077   \n",
       "1     268.728         0.519                       0.122   \n",
       "2     268.695         0.480                       0.166   \n",
       "3     268.652         0.425                       0.211   \n",
       "4     268.599         0.351                       0.241   \n",
       "\n",
       "   Ground Track - VV-[0]  Roll Acceleration  ...  Swashplate Phase  \\\n",
       "0                268.658            -18.613  ...               1.0   \n",
       "1                268.631            -18.616  ...               1.0   \n",
       "2                268.598            -15.897  ...               1.0   \n",
       "3                268.555            -11.346  ...               1.0   \n",
       "4                268.502             -8.163  ...               1.0   \n",
       "\n",
       "   GPS 1 DME Distance  GPS 1 DME Speed  NAV 1 DME Time  NAV 1 DME Speed  \\\n",
       "0                 1.0          356.080         260.854          260.854   \n",
       "1                 1.0          354.501         260.829          260.829   \n",
       "2                 1.0          352.893         260.799          260.799   \n",
       "3                 1.0          350.959         260.761          260.761   \n",
       "4                 1.0          348.617         260.713          260.713   \n",
       "\n",
       "   NAV 2 NAV ID  GPS Hor Deviation  Label  Dynamic Rollover  LOW-G  \n",
       "0         2.521             -1.577    NaN                 0      0  \n",
       "1         2.716             -1.995    NaN                 0      0  \n",
       "2         2.537             -2.341    NaN                 0      0  \n",
       "3         1.964             -2.674    NaN                 0      0  \n",
       "4         0.885             -2.934    NaN                 0      0  \n",
       "\n",
       "[5 rows x 32 columns]"
      ]
     },
     "execution_count": 11,
     "metadata": {},
     "output_type": "execute_result"
    }
   ],
   "source": [
    "df.head()"
   ]
  },
  {
   "cell_type": "code",
   "execution_count": 80,
   "metadata": {},
   "outputs": [
    {
     "name": "stdout",
     "output_type": "stream",
     "text": [
      "float64    28\n",
      "object      2\n",
      "int64       2\n",
      "dtype: int64\n",
      "(258905, 32)\n"
     ]
    }
   ],
   "source": [
    "# Check the data types\n",
    "#Check the data types\n",
    "print(df.dtypes.value_counts())\n",
    "print(df.shape)"
   ]
  },
  {
   "cell_type": "code",
   "execution_count": 13,
   "metadata": {},
   "outputs": [],
   "source": [
    "#Change the NaN in the labels to 'Other'\n",
    "df['Label'] = df['Label'].fillna('Other')"
   ]
  },
  {
   "cell_type": "code",
   "execution_count": 14,
   "metadata": {},
   "outputs": [
    {
     "data": {
      "text/html": [
       "<div>\n",
       "<style scoped>\n",
       "    .dataframe tbody tr th:only-of-type {\n",
       "        vertical-align: middle;\n",
       "    }\n",
       "\n",
       "    .dataframe tbody tr th {\n",
       "        vertical-align: top;\n",
       "    }\n",
       "\n",
       "    .dataframe thead th {\n",
       "        text-align: right;\n",
       "    }\n",
       "</style>\n",
       "<table border=\"1\" class=\"dataframe\">\n",
       "  <thead>\n",
       "    <tr style=\"text-align: right;\">\n",
       "      <th></th>\n",
       "      <th>Heading(mag)</th>\n",
       "      <th>Vert. Speed</th>\n",
       "      <th>Compass Heading</th>\n",
       "      <th>Roll Rate</th>\n",
       "      <th>Pitch Rate</th>\n",
       "      <th>Pitch Path</th>\n",
       "      <th>Heading Path</th>\n",
       "      <th>Flight Path Angle - VV-[0]</th>\n",
       "      <th>Ground Track - VV-[0]</th>\n",
       "      <th>Roll Acceleration</th>\n",
       "      <th>...</th>\n",
       "      <th>Swashplate Phase</th>\n",
       "      <th>GPS 1 DME Distance</th>\n",
       "      <th>GPS 1 DME Speed</th>\n",
       "      <th>NAV 1 DME Time</th>\n",
       "      <th>NAV 1 DME Speed</th>\n",
       "      <th>NAV 2 NAV ID</th>\n",
       "      <th>GPS Hor Deviation</th>\n",
       "      <th>Label</th>\n",
       "      <th>Dynamic Rollover</th>\n",
       "      <th>LOW-G</th>\n",
       "    </tr>\n",
       "  </thead>\n",
       "  <tbody>\n",
       "    <tr>\n",
       "      <th>0</th>\n",
       "      <td>39.5754</td>\n",
       "      <td>-104.846953</td>\n",
       "      <td>5888.74</td>\n",
       "      <td>0.02</td>\n",
       "      <td>260.843</td>\n",
       "      <td>268.755</td>\n",
       "      <td>0.550</td>\n",
       "      <td>0.077</td>\n",
       "      <td>268.658</td>\n",
       "      <td>-18.613</td>\n",
       "      <td>...</td>\n",
       "      <td>1.0</td>\n",
       "      <td>1.0</td>\n",
       "      <td>356.080</td>\n",
       "      <td>260.854</td>\n",
       "      <td>260.854</td>\n",
       "      <td>2.521</td>\n",
       "      <td>-1.577</td>\n",
       "      <td>Other</td>\n",
       "      <td>0</td>\n",
       "      <td>0</td>\n",
       "    </tr>\n",
       "    <tr>\n",
       "      <th>1</th>\n",
       "      <td>39.5754</td>\n",
       "      <td>-104.846953</td>\n",
       "      <td>5888.75</td>\n",
       "      <td>0.03</td>\n",
       "      <td>260.815</td>\n",
       "      <td>268.728</td>\n",
       "      <td>0.519</td>\n",
       "      <td>0.122</td>\n",
       "      <td>268.631</td>\n",
       "      <td>-18.616</td>\n",
       "      <td>...</td>\n",
       "      <td>1.0</td>\n",
       "      <td>1.0</td>\n",
       "      <td>354.501</td>\n",
       "      <td>260.829</td>\n",
       "      <td>260.829</td>\n",
       "      <td>2.716</td>\n",
       "      <td>-1.995</td>\n",
       "      <td>Other</td>\n",
       "      <td>0</td>\n",
       "      <td>0</td>\n",
       "    </tr>\n",
       "    <tr>\n",
       "      <th>2</th>\n",
       "      <td>39.5754</td>\n",
       "      <td>-104.846953</td>\n",
       "      <td>5888.76</td>\n",
       "      <td>0.04</td>\n",
       "      <td>260.782</td>\n",
       "      <td>268.695</td>\n",
       "      <td>0.480</td>\n",
       "      <td>0.166</td>\n",
       "      <td>268.598</td>\n",
       "      <td>-15.897</td>\n",
       "      <td>...</td>\n",
       "      <td>1.0</td>\n",
       "      <td>1.0</td>\n",
       "      <td>352.893</td>\n",
       "      <td>260.799</td>\n",
       "      <td>260.799</td>\n",
       "      <td>2.537</td>\n",
       "      <td>-2.341</td>\n",
       "      <td>Other</td>\n",
       "      <td>0</td>\n",
       "      <td>0</td>\n",
       "    </tr>\n",
       "    <tr>\n",
       "      <th>3</th>\n",
       "      <td>39.5754</td>\n",
       "      <td>-104.846953</td>\n",
       "      <td>5888.77</td>\n",
       "      <td>0.05</td>\n",
       "      <td>260.740</td>\n",
       "      <td>268.652</td>\n",
       "      <td>0.425</td>\n",
       "      <td>0.211</td>\n",
       "      <td>268.555</td>\n",
       "      <td>-11.346</td>\n",
       "      <td>...</td>\n",
       "      <td>1.0</td>\n",
       "      <td>1.0</td>\n",
       "      <td>350.959</td>\n",
       "      <td>260.761</td>\n",
       "      <td>260.761</td>\n",
       "      <td>1.964</td>\n",
       "      <td>-2.674</td>\n",
       "      <td>Other</td>\n",
       "      <td>0</td>\n",
       "      <td>0</td>\n",
       "    </tr>\n",
       "    <tr>\n",
       "      <th>4</th>\n",
       "      <td>39.5754</td>\n",
       "      <td>-104.846953</td>\n",
       "      <td>5888.77</td>\n",
       "      <td>0.05</td>\n",
       "      <td>260.686</td>\n",
       "      <td>268.599</td>\n",
       "      <td>0.351</td>\n",
       "      <td>0.241</td>\n",
       "      <td>268.502</td>\n",
       "      <td>-8.163</td>\n",
       "      <td>...</td>\n",
       "      <td>1.0</td>\n",
       "      <td>1.0</td>\n",
       "      <td>348.617</td>\n",
       "      <td>260.713</td>\n",
       "      <td>260.713</td>\n",
       "      <td>0.885</td>\n",
       "      <td>-2.934</td>\n",
       "      <td>Other</td>\n",
       "      <td>0</td>\n",
       "      <td>0</td>\n",
       "    </tr>\n",
       "  </tbody>\n",
       "</table>\n",
       "<p>5 rows × 32 columns</p>\n",
       "</div>"
      ],
      "text/plain": [
       "  Heading(mag)  Vert. Speed  Compass Heading  Roll Rate  Pitch Rate  \\\n",
       "0      39.5754  -104.846953          5888.74       0.02     260.843   \n",
       "1      39.5754  -104.846953          5888.75       0.03     260.815   \n",
       "2      39.5754  -104.846953          5888.76       0.04     260.782   \n",
       "3      39.5754  -104.846953          5888.77       0.05     260.740   \n",
       "4      39.5754  -104.846953          5888.77       0.05     260.686   \n",
       "\n",
       "   Pitch Path  Heading Path  Flight Path Angle - VV-[0]  \\\n",
       "0     268.755         0.550                       0.077   \n",
       "1     268.728         0.519                       0.122   \n",
       "2     268.695         0.480                       0.166   \n",
       "3     268.652         0.425                       0.211   \n",
       "4     268.599         0.351                       0.241   \n",
       "\n",
       "   Ground Track - VV-[0]  Roll Acceleration  ...  Swashplate Phase  \\\n",
       "0                268.658            -18.613  ...               1.0   \n",
       "1                268.631            -18.616  ...               1.0   \n",
       "2                268.598            -15.897  ...               1.0   \n",
       "3                268.555            -11.346  ...               1.0   \n",
       "4                268.502             -8.163  ...               1.0   \n",
       "\n",
       "   GPS 1 DME Distance  GPS 1 DME Speed  NAV 1 DME Time  NAV 1 DME Speed  \\\n",
       "0                 1.0          356.080         260.854          260.854   \n",
       "1                 1.0          354.501         260.829          260.829   \n",
       "2                 1.0          352.893         260.799          260.799   \n",
       "3                 1.0          350.959         260.761          260.761   \n",
       "4                 1.0          348.617         260.713          260.713   \n",
       "\n",
       "   NAV 2 NAV ID  GPS Hor Deviation  Label  Dynamic Rollover  LOW-G  \n",
       "0         2.521             -1.577  Other                 0      0  \n",
       "1         2.716             -1.995  Other                 0      0  \n",
       "2         2.537             -2.341  Other                 0      0  \n",
       "3         1.964             -2.674  Other                 0      0  \n",
       "4         0.885             -2.934  Other                 0      0  \n",
       "\n",
       "[5 rows x 32 columns]"
      ]
     },
     "execution_count": 14,
     "metadata": {},
     "output_type": "execute_result"
    }
   ],
   "source": [
    "df.head()"
   ]
  },
  {
   "cell_type": "code",
   "execution_count": 15,
   "metadata": {},
   "outputs": [],
   "source": [
    "# Create a clustering dataframe where it does not contain the encoding\n",
    "df_clustering = df.drop(columns=['Dynamic Rollover', 'LOW-G'])"
   ]
  },
  {
   "cell_type": "code",
   "execution_count": 16,
   "metadata": {},
   "outputs": [],
   "source": [
    "# Next create a test train split on the data\n",
    "\n",
    "X = df_clustering.drop(['Label'], axis=1)\n",
    "Y = df_clustering['Label']\n",
    "\n",
    "X_train, X_test, y_train, y_test = train_test_split(X, Y, test_size=0.20)"
   ]
  },
  {
   "cell_type": "code",
   "execution_count": 17,
   "metadata": {},
   "outputs": [],
   "source": [
    "# Standarize Numerical data\n",
    "scaler = StandardScaler()\n",
    "# apply standardization to the data\n",
    "scaler.fit(X_train)\n",
    "X_train = scaler.transform(X_train)\n",
    "X_test = scaler.transform(X_test)"
   ]
  },
  {
   "cell_type": "code",
   "execution_count": 18,
   "metadata": {},
   "outputs": [],
   "source": [
    "# Apply a kernel PCA to to the data to reduce the dimensionality\n",
    "# This was too computationally expensive\n",
    "# from sklearn.decomposition import KernelPCA\n",
    "# from sklearn.manifold import TSNE"
   ]
  },
  {
   "cell_type": "code",
   "execution_count": 19,
   "metadata": {},
   "outputs": [],
   "source": [
    "# tsne = TSNE(n_components=2, random_state=1)"
   ]
  },
  {
   "cell_type": "code",
   "execution_count": 20,
   "metadata": {},
   "outputs": [],
   "source": [
    "# X_tsne = tsne.fit_transform(X_train)"
   ]
  },
  {
   "cell_type": "code",
   "execution_count": 21,
   "metadata": {},
   "outputs": [
    {
     "data": {
      "text/html": [
       "<style>#sk-container-id-1 {color: black;background-color: white;}#sk-container-id-1 pre{padding: 0;}#sk-container-id-1 div.sk-toggleable {background-color: white;}#sk-container-id-1 label.sk-toggleable__label {cursor: pointer;display: block;width: 100%;margin-bottom: 0;padding: 0.3em;box-sizing: border-box;text-align: center;}#sk-container-id-1 label.sk-toggleable__label-arrow:before {content: \"▸\";float: left;margin-right: 0.25em;color: #696969;}#sk-container-id-1 label.sk-toggleable__label-arrow:hover:before {color: black;}#sk-container-id-1 div.sk-estimator:hover label.sk-toggleable__label-arrow:before {color: black;}#sk-container-id-1 div.sk-toggleable__content {max-height: 0;max-width: 0;overflow: hidden;text-align: left;background-color: #f0f8ff;}#sk-container-id-1 div.sk-toggleable__content pre {margin: 0.2em;color: black;border-radius: 0.25em;background-color: #f0f8ff;}#sk-container-id-1 input.sk-toggleable__control:checked~div.sk-toggleable__content {max-height: 200px;max-width: 100%;overflow: auto;}#sk-container-id-1 input.sk-toggleable__control:checked~label.sk-toggleable__label-arrow:before {content: \"▾\";}#sk-container-id-1 div.sk-estimator input.sk-toggleable__control:checked~label.sk-toggleable__label {background-color: #d4ebff;}#sk-container-id-1 div.sk-label input.sk-toggleable__control:checked~label.sk-toggleable__label {background-color: #d4ebff;}#sk-container-id-1 input.sk-hidden--visually {border: 0;clip: rect(1px 1px 1px 1px);clip: rect(1px, 1px, 1px, 1px);height: 1px;margin: -1px;overflow: hidden;padding: 0;position: absolute;width: 1px;}#sk-container-id-1 div.sk-estimator {font-family: monospace;background-color: #f0f8ff;border: 1px dotted black;border-radius: 0.25em;box-sizing: border-box;margin-bottom: 0.5em;}#sk-container-id-1 div.sk-estimator:hover {background-color: #d4ebff;}#sk-container-id-1 div.sk-parallel-item::after {content: \"\";width: 100%;border-bottom: 1px solid gray;flex-grow: 1;}#sk-container-id-1 div.sk-label:hover label.sk-toggleable__label {background-color: #d4ebff;}#sk-container-id-1 div.sk-serial::before {content: \"\";position: absolute;border-left: 1px solid gray;box-sizing: border-box;top: 0;bottom: 0;left: 50%;z-index: 0;}#sk-container-id-1 div.sk-serial {display: flex;flex-direction: column;align-items: center;background-color: white;padding-right: 0.2em;padding-left: 0.2em;position: relative;}#sk-container-id-1 div.sk-item {position: relative;z-index: 1;}#sk-container-id-1 div.sk-parallel {display: flex;align-items: stretch;justify-content: center;background-color: white;position: relative;}#sk-container-id-1 div.sk-item::before, #sk-container-id-1 div.sk-parallel-item::before {content: \"\";position: absolute;border-left: 1px solid gray;box-sizing: border-box;top: 0;bottom: 0;left: 50%;z-index: -1;}#sk-container-id-1 div.sk-parallel-item {display: flex;flex-direction: column;z-index: 1;position: relative;background-color: white;}#sk-container-id-1 div.sk-parallel-item:first-child::after {align-self: flex-end;width: 50%;}#sk-container-id-1 div.sk-parallel-item:last-child::after {align-self: flex-start;width: 50%;}#sk-container-id-1 div.sk-parallel-item:only-child::after {width: 0;}#sk-container-id-1 div.sk-dashed-wrapped {border: 1px dashed gray;margin: 0 0.4em 0.5em 0.4em;box-sizing: border-box;padding-bottom: 0.4em;background-color: white;}#sk-container-id-1 div.sk-label label {font-family: monospace;font-weight: bold;display: inline-block;line-height: 1.2em;}#sk-container-id-1 div.sk-label-container {text-align: center;}#sk-container-id-1 div.sk-container {/* jupyter's `normalize.less` sets `[hidden] { display: none; }` but bootstrap.min.css set `[hidden] { display: none !important; }` so we also need the `!important` here to be able to override the default hidden behavior on the sphinx rendered scikit-learn.org. See: https://github.com/scikit-learn/scikit-learn/issues/21755 */display: inline-block !important;position: relative;}#sk-container-id-1 div.sk-text-repr-fallback {display: none;}</style><div id=\"sk-container-id-1\" class=\"sk-top-container\"><div class=\"sk-text-repr-fallback\"><pre>KNeighborsClassifier()</pre><b>In a Jupyter environment, please rerun this cell to show the HTML representation or trust the notebook. <br />On GitHub, the HTML representation is unable to render, please try loading this page with nbviewer.org.</b></div><div class=\"sk-container\" hidden><div class=\"sk-item\"><div class=\"sk-estimator sk-toggleable\"><input class=\"sk-toggleable__control sk-hidden--visually\" id=\"sk-estimator-id-1\" type=\"checkbox\" checked><label for=\"sk-estimator-id-1\" class=\"sk-toggleable__label sk-toggleable__label-arrow\">KNeighborsClassifier</label><div class=\"sk-toggleable__content\"><pre>KNeighborsClassifier()</pre></div></div></div></div></div>"
      ],
      "text/plain": [
       "KNeighborsClassifier()"
      ]
     },
     "execution_count": 21,
     "metadata": {},
     "output_type": "execute_result"
    }
   ],
   "source": [
    "# Apply a kNN clustering alogrithm to the data\n",
    "\n",
    "from sklearn.neighbors import KNeighborsClassifier\n",
    "classifier = KNeighborsClassifier(n_neighbors=5)\n",
    "classifier.fit(X_train, y_train)"
   ]
  },
  {
   "cell_type": "code",
   "execution_count": 22,
   "metadata": {},
   "outputs": [],
   "source": [
    "# Make prediction on the data\n",
    "y_pred = classifier.predict(X_test)"
   ]
  },
  {
   "cell_type": "code",
   "execution_count": 23,
   "metadata": {},
   "outputs": [
    {
     "name": "stdout",
     "output_type": "stream",
     "text": [
      "[[  493     0     3]\n",
      " [    0   340     0]\n",
      " [    3     1 50941]]\n",
      "                  precision    recall  f1-score   support\n",
      "\n",
      "Dynamic Rollover       0.99      0.99      0.99       496\n",
      "           LOW-G       1.00      1.00      1.00       340\n",
      "           Other       1.00      1.00      1.00     50945\n",
      "\n",
      "        accuracy                           1.00     51781\n",
      "       macro avg       1.00      1.00      1.00     51781\n",
      "    weighted avg       1.00      1.00      1.00     51781\n",
      "\n"
     ]
    }
   ],
   "source": [
    "# check the performance of the model\n",
    "from sklearn.metrics import classification_report, confusion_matrix\n",
    "print(confusion_matrix(y_test, y_pred))\n",
    "print(classification_report(y_test, y_pred))"
   ]
  },
  {
   "cell_type": "code",
   "execution_count": 24,
   "metadata": {},
   "outputs": [
    {
     "data": {
      "text/html": [
       "<style>#sk-container-id-2 {color: black;background-color: white;}#sk-container-id-2 pre{padding: 0;}#sk-container-id-2 div.sk-toggleable {background-color: white;}#sk-container-id-2 label.sk-toggleable__label {cursor: pointer;display: block;width: 100%;margin-bottom: 0;padding: 0.3em;box-sizing: border-box;text-align: center;}#sk-container-id-2 label.sk-toggleable__label-arrow:before {content: \"▸\";float: left;margin-right: 0.25em;color: #696969;}#sk-container-id-2 label.sk-toggleable__label-arrow:hover:before {color: black;}#sk-container-id-2 div.sk-estimator:hover label.sk-toggleable__label-arrow:before {color: black;}#sk-container-id-2 div.sk-toggleable__content {max-height: 0;max-width: 0;overflow: hidden;text-align: left;background-color: #f0f8ff;}#sk-container-id-2 div.sk-toggleable__content pre {margin: 0.2em;color: black;border-radius: 0.25em;background-color: #f0f8ff;}#sk-container-id-2 input.sk-toggleable__control:checked~div.sk-toggleable__content {max-height: 200px;max-width: 100%;overflow: auto;}#sk-container-id-2 input.sk-toggleable__control:checked~label.sk-toggleable__label-arrow:before {content: \"▾\";}#sk-container-id-2 div.sk-estimator input.sk-toggleable__control:checked~label.sk-toggleable__label {background-color: #d4ebff;}#sk-container-id-2 div.sk-label input.sk-toggleable__control:checked~label.sk-toggleable__label {background-color: #d4ebff;}#sk-container-id-2 input.sk-hidden--visually {border: 0;clip: rect(1px 1px 1px 1px);clip: rect(1px, 1px, 1px, 1px);height: 1px;margin: -1px;overflow: hidden;padding: 0;position: absolute;width: 1px;}#sk-container-id-2 div.sk-estimator {font-family: monospace;background-color: #f0f8ff;border: 1px dotted black;border-radius: 0.25em;box-sizing: border-box;margin-bottom: 0.5em;}#sk-container-id-2 div.sk-estimator:hover {background-color: #d4ebff;}#sk-container-id-2 div.sk-parallel-item::after {content: \"\";width: 100%;border-bottom: 1px solid gray;flex-grow: 1;}#sk-container-id-2 div.sk-label:hover label.sk-toggleable__label {background-color: #d4ebff;}#sk-container-id-2 div.sk-serial::before {content: \"\";position: absolute;border-left: 1px solid gray;box-sizing: border-box;top: 0;bottom: 0;left: 50%;z-index: 0;}#sk-container-id-2 div.sk-serial {display: flex;flex-direction: column;align-items: center;background-color: white;padding-right: 0.2em;padding-left: 0.2em;position: relative;}#sk-container-id-2 div.sk-item {position: relative;z-index: 1;}#sk-container-id-2 div.sk-parallel {display: flex;align-items: stretch;justify-content: center;background-color: white;position: relative;}#sk-container-id-2 div.sk-item::before, #sk-container-id-2 div.sk-parallel-item::before {content: \"\";position: absolute;border-left: 1px solid gray;box-sizing: border-box;top: 0;bottom: 0;left: 50%;z-index: -1;}#sk-container-id-2 div.sk-parallel-item {display: flex;flex-direction: column;z-index: 1;position: relative;background-color: white;}#sk-container-id-2 div.sk-parallel-item:first-child::after {align-self: flex-end;width: 50%;}#sk-container-id-2 div.sk-parallel-item:last-child::after {align-self: flex-start;width: 50%;}#sk-container-id-2 div.sk-parallel-item:only-child::after {width: 0;}#sk-container-id-2 div.sk-dashed-wrapped {border: 1px dashed gray;margin: 0 0.4em 0.5em 0.4em;box-sizing: border-box;padding-bottom: 0.4em;background-color: white;}#sk-container-id-2 div.sk-label label {font-family: monospace;font-weight: bold;display: inline-block;line-height: 1.2em;}#sk-container-id-2 div.sk-label-container {text-align: center;}#sk-container-id-2 div.sk-container {/* jupyter's `normalize.less` sets `[hidden] { display: none; }` but bootstrap.min.css set `[hidden] { display: none !important; }` so we also need the `!important` here to be able to override the default hidden behavior on the sphinx rendered scikit-learn.org. See: https://github.com/scikit-learn/scikit-learn/issues/21755 */display: inline-block !important;position: relative;}#sk-container-id-2 div.sk-text-repr-fallback {display: none;}</style><div id=\"sk-container-id-2\" class=\"sk-top-container\"><div class=\"sk-text-repr-fallback\"><pre>KNeighborsClassifier(n_neighbors=10)</pre><b>In a Jupyter environment, please rerun this cell to show the HTML representation or trust the notebook. <br />On GitHub, the HTML representation is unable to render, please try loading this page with nbviewer.org.</b></div><div class=\"sk-container\" hidden><div class=\"sk-item\"><div class=\"sk-estimator sk-toggleable\"><input class=\"sk-toggleable__control sk-hidden--visually\" id=\"sk-estimator-id-2\" type=\"checkbox\" checked><label for=\"sk-estimator-id-2\" class=\"sk-toggleable__label sk-toggleable__label-arrow\">KNeighborsClassifier</label><div class=\"sk-toggleable__content\"><pre>KNeighborsClassifier(n_neighbors=10)</pre></div></div></div></div></div>"
      ],
      "text/plain": [
       "KNeighborsClassifier(n_neighbors=10)"
      ]
     },
     "execution_count": 24,
     "metadata": {},
     "output_type": "execute_result"
    }
   ],
   "source": [
    "# Create another model with k = 10\n",
    "classifier2 = KNeighborsClassifier(n_neighbors=10)\n",
    "classifier2.fit(X_train, y_train)\n"
   ]
  },
  {
   "cell_type": "code",
   "execution_count": 25,
   "metadata": {},
   "outputs": [],
   "source": [
    "y_pred2 = classifier2.predict(X_test)"
   ]
  },
  {
   "cell_type": "code",
   "execution_count": 26,
   "metadata": {},
   "outputs": [
    {
     "name": "stdout",
     "output_type": "stream",
     "text": [
      "[[  489     0     7]\n",
      " [    0   339     1]\n",
      " [    3     2 50940]]\n",
      "                  precision    recall  f1-score   support\n",
      "\n",
      "Dynamic Rollover       0.99      0.99      0.99       496\n",
      "           LOW-G       0.99      1.00      1.00       340\n",
      "           Other       1.00      1.00      1.00     50945\n",
      "\n",
      "        accuracy                           1.00     51781\n",
      "       macro avg       1.00      0.99      1.00     51781\n",
      "    weighted avg       1.00      1.00      1.00     51781\n",
      "\n"
     ]
    }
   ],
   "source": [
    "print(confusion_matrix(y_test, y_pred2))\n",
    "print(classification_report(y_test, y_pred2))"
   ]
  },
  {
   "cell_type": "code",
   "execution_count": 27,
   "metadata": {},
   "outputs": [],
   "source": [
    "# Create another model with k = 15\n",
    "classifier3 = KNeighborsClassifier(n_neighbors=15)\n",
    "classifier3.fit(X_train, y_train)\n",
    "y_pred3 = classifier3.predict(X_test)"
   ]
  },
  {
   "cell_type": "code",
   "execution_count": 28,
   "metadata": {},
   "outputs": [
    {
     "name": "stdout",
     "output_type": "stream",
     "text": [
      "[[  486     0    10]\n",
      " [    0   337     3]\n",
      " [    3     3 50939]]\n",
      "                  precision    recall  f1-score   support\n",
      "\n",
      "Dynamic Rollover       0.99      0.98      0.99       496\n",
      "           LOW-G       0.99      0.99      0.99       340\n",
      "           Other       1.00      1.00      1.00     50945\n",
      "\n",
      "        accuracy                           1.00     51781\n",
      "       macro avg       0.99      0.99      0.99     51781\n",
      "    weighted avg       1.00      1.00      1.00     51781\n",
      "\n"
     ]
    }
   ],
   "source": [
    "print(confusion_matrix(y_test, y_pred3))\n",
    "print(classification_report(y_test, y_pred3))"
   ]
  },
  {
   "cell_type": "code",
   "execution_count": 29,
   "metadata": {},
   "outputs": [],
   "source": [
    "# Create another model with k = 3\n",
    "\n",
    "classifier4 = KNeighborsClassifier(n_neighbors=3)\n",
    "classifier4.fit(X_train, y_train)\n",
    "y_pred4 = classifier4.predict(X_test)"
   ]
  },
  {
   "cell_type": "code",
   "execution_count": 30,
   "metadata": {},
   "outputs": [
    {
     "name": "stdout",
     "output_type": "stream",
     "text": [
      "[[  493     0     3]\n",
      " [    0   340     0]\n",
      " [    3     0 50942]]\n",
      "                  precision    recall  f1-score   support\n",
      "\n",
      "Dynamic Rollover       0.99      0.99      0.99       496\n",
      "           LOW-G       1.00      1.00      1.00       340\n",
      "           Other       1.00      1.00      1.00     50945\n",
      "\n",
      "        accuracy                           1.00     51781\n",
      "       macro avg       1.00      1.00      1.00     51781\n",
      "    weighted avg       1.00      1.00      1.00     51781\n",
      "\n"
     ]
    }
   ],
   "source": [
    "print(confusion_matrix(y_test, y_pred4))\n",
    "print(classification_report(y_test, y_pred4))"
   ]
  },
  {
   "cell_type": "code",
   "execution_count": 31,
   "metadata": {},
   "outputs": [],
   "source": [
    "# Next I will apply undersampling to the data to account for the imbalance\n",
    "import imblearn\n",
    "from imblearn.under_sampling import RandomUnderSampler\n",
    "from sklearn.datasets import make_classification\n",
    "from sklearn.model_selection import train_test_split"
   ]
  },
  {
   "cell_type": "code",
   "execution_count": 32,
   "metadata": {},
   "outputs": [],
   "source": [
    "# Create the split using the under sampling method\n",
    "# First apply stratification\n",
    "X_train_us, X_test_us, y_train_us, y_test_us = train_test_split(X, Y, test_size=0.20,\n",
    "                                                                stratify=Y, random_state=42)"
   ]
  },
  {
   "cell_type": "code",
   "execution_count": 33,
   "metadata": {},
   "outputs": [],
   "source": [
    "# Next apply the undersampling technique on the training set\n",
    "rus = RandomUnderSampler(random_state=42)\n",
    "x_resampled_dr, y_resampled_dr = rus.fit_resample(X_train_us, y_train_us)\n"
   ]
  },
  {
   "cell_type": "code",
   "execution_count": 34,
   "metadata": {},
   "outputs": [
    {
     "data": {
      "text/html": [
       "<style>#sk-container-id-3 {color: black;background-color: white;}#sk-container-id-3 pre{padding: 0;}#sk-container-id-3 div.sk-toggleable {background-color: white;}#sk-container-id-3 label.sk-toggleable__label {cursor: pointer;display: block;width: 100%;margin-bottom: 0;padding: 0.3em;box-sizing: border-box;text-align: center;}#sk-container-id-3 label.sk-toggleable__label-arrow:before {content: \"▸\";float: left;margin-right: 0.25em;color: #696969;}#sk-container-id-3 label.sk-toggleable__label-arrow:hover:before {color: black;}#sk-container-id-3 div.sk-estimator:hover label.sk-toggleable__label-arrow:before {color: black;}#sk-container-id-3 div.sk-toggleable__content {max-height: 0;max-width: 0;overflow: hidden;text-align: left;background-color: #f0f8ff;}#sk-container-id-3 div.sk-toggleable__content pre {margin: 0.2em;color: black;border-radius: 0.25em;background-color: #f0f8ff;}#sk-container-id-3 input.sk-toggleable__control:checked~div.sk-toggleable__content {max-height: 200px;max-width: 100%;overflow: auto;}#sk-container-id-3 input.sk-toggleable__control:checked~label.sk-toggleable__label-arrow:before {content: \"▾\";}#sk-container-id-3 div.sk-estimator input.sk-toggleable__control:checked~label.sk-toggleable__label {background-color: #d4ebff;}#sk-container-id-3 div.sk-label input.sk-toggleable__control:checked~label.sk-toggleable__label {background-color: #d4ebff;}#sk-container-id-3 input.sk-hidden--visually {border: 0;clip: rect(1px 1px 1px 1px);clip: rect(1px, 1px, 1px, 1px);height: 1px;margin: -1px;overflow: hidden;padding: 0;position: absolute;width: 1px;}#sk-container-id-3 div.sk-estimator {font-family: monospace;background-color: #f0f8ff;border: 1px dotted black;border-radius: 0.25em;box-sizing: border-box;margin-bottom: 0.5em;}#sk-container-id-3 div.sk-estimator:hover {background-color: #d4ebff;}#sk-container-id-3 div.sk-parallel-item::after {content: \"\";width: 100%;border-bottom: 1px solid gray;flex-grow: 1;}#sk-container-id-3 div.sk-label:hover label.sk-toggleable__label {background-color: #d4ebff;}#sk-container-id-3 div.sk-serial::before {content: \"\";position: absolute;border-left: 1px solid gray;box-sizing: border-box;top: 0;bottom: 0;left: 50%;z-index: 0;}#sk-container-id-3 div.sk-serial {display: flex;flex-direction: column;align-items: center;background-color: white;padding-right: 0.2em;padding-left: 0.2em;position: relative;}#sk-container-id-3 div.sk-item {position: relative;z-index: 1;}#sk-container-id-3 div.sk-parallel {display: flex;align-items: stretch;justify-content: center;background-color: white;position: relative;}#sk-container-id-3 div.sk-item::before, #sk-container-id-3 div.sk-parallel-item::before {content: \"\";position: absolute;border-left: 1px solid gray;box-sizing: border-box;top: 0;bottom: 0;left: 50%;z-index: -1;}#sk-container-id-3 div.sk-parallel-item {display: flex;flex-direction: column;z-index: 1;position: relative;background-color: white;}#sk-container-id-3 div.sk-parallel-item:first-child::after {align-self: flex-end;width: 50%;}#sk-container-id-3 div.sk-parallel-item:last-child::after {align-self: flex-start;width: 50%;}#sk-container-id-3 div.sk-parallel-item:only-child::after {width: 0;}#sk-container-id-3 div.sk-dashed-wrapped {border: 1px dashed gray;margin: 0 0.4em 0.5em 0.4em;box-sizing: border-box;padding-bottom: 0.4em;background-color: white;}#sk-container-id-3 div.sk-label label {font-family: monospace;font-weight: bold;display: inline-block;line-height: 1.2em;}#sk-container-id-3 div.sk-label-container {text-align: center;}#sk-container-id-3 div.sk-container {/* jupyter's `normalize.less` sets `[hidden] { display: none; }` but bootstrap.min.css set `[hidden] { display: none !important; }` so we also need the `!important` here to be able to override the default hidden behavior on the sphinx rendered scikit-learn.org. See: https://github.com/scikit-learn/scikit-learn/issues/21755 */display: inline-block !important;position: relative;}#sk-container-id-3 div.sk-text-repr-fallback {display: none;}</style><div id=\"sk-container-id-3\" class=\"sk-top-container\"><div class=\"sk-text-repr-fallback\"><pre>KNeighborsClassifier(n_neighbors=3)</pre><b>In a Jupyter environment, please rerun this cell to show the HTML representation or trust the notebook. <br />On GitHub, the HTML representation is unable to render, please try loading this page with nbviewer.org.</b></div><div class=\"sk-container\" hidden><div class=\"sk-item\"><div class=\"sk-estimator sk-toggleable\"><input class=\"sk-toggleable__control sk-hidden--visually\" id=\"sk-estimator-id-3\" type=\"checkbox\" checked><label for=\"sk-estimator-id-3\" class=\"sk-toggleable__label sk-toggleable__label-arrow\">KNeighborsClassifier</label><div class=\"sk-toggleable__content\"><pre>KNeighborsClassifier(n_neighbors=3)</pre></div></div></div></div></div>"
      ],
      "text/plain": [
       "KNeighborsClassifier(n_neighbors=3)"
      ]
     },
     "execution_count": 34,
     "metadata": {},
     "output_type": "execute_result"
    }
   ],
   "source": [
    "# Run the KNN classifier\n",
    "# k=3\n",
    "from sklearn.neighbors import KNeighborsClassifier\n",
    "classifier_us1 = KNeighborsClassifier(n_neighbors=3)\n",
    "classifier_us1.fit(x_resampled_dr, y_resampled_dr)\n"
   ]
  },
  {
   "cell_type": "code",
   "execution_count": 35,
   "metadata": {},
   "outputs": [],
   "source": [
    "y_pred_us = classifier_us1.predict(X_test_us)"
   ]
  },
  {
   "cell_type": "code",
   "execution_count": 36,
   "metadata": {},
   "outputs": [
    {
     "name": "stdout",
     "output_type": "stream",
     "text": [
      "[[  511     0     0]\n",
      " [    0   344     0]\n",
      " [  571   814 49541]]\n",
      "                  precision    recall  f1-score   support\n",
      "\n",
      "Dynamic Rollover       0.47      1.00      0.64       511\n",
      "           LOW-G       0.30      1.00      0.46       344\n",
      "           Other       1.00      0.97      0.99     50926\n",
      "\n",
      "        accuracy                           0.97     51781\n",
      "       macro avg       0.59      0.99      0.70     51781\n",
      "    weighted avg       0.99      0.97      0.98     51781\n",
      "\n"
     ]
    }
   ],
   "source": [
    "# check the performance of the model\n",
    "print(confusion_matrix(y_test_us, y_pred_us))\n",
    "print(classification_report(y_test_us, y_pred_us))"
   ]
  },
  {
   "cell_type": "code",
   "execution_count": 38,
   "metadata": {},
   "outputs": [],
   "source": [
    "# Run the KNN classifier\n",
    "# k=5\n",
    "classifier_us2 = KNeighborsClassifier(n_neighbors=5)\n",
    "classifier_us2.fit(x_resampled_dr, y_resampled_dr)\n",
    "y_pred_us2 = classifier_us2.predict(X_test_us)"
   ]
  },
  {
   "cell_type": "code",
   "execution_count": 39,
   "metadata": {},
   "outputs": [
    {
     "name": "stdout",
     "output_type": "stream",
     "text": [
      "[[  511     0     0]\n",
      " [    0   344     0]\n",
      " [  764  1135 49027]]\n",
      "                  precision    recall  f1-score   support\n",
      "\n",
      "Dynamic Rollover       0.40      1.00      0.57       511\n",
      "           LOW-G       0.23      1.00      0.38       344\n",
      "           Other       1.00      0.96      0.98     50926\n",
      "\n",
      "        accuracy                           0.96     51781\n",
      "       macro avg       0.54      0.99      0.64     51781\n",
      "    weighted avg       0.99      0.96      0.97     51781\n",
      "\n"
     ]
    }
   ],
   "source": [
    "# check the performance of the model\n",
    "print(confusion_matrix(y_test_us, y_pred_us2))\n",
    "print(classification_report(y_test_us, y_pred_us2))"
   ]
  },
  {
   "cell_type": "code",
   "execution_count": 40,
   "metadata": {},
   "outputs": [],
   "source": [
    "# Run the KNN classifier\n",
    "# k=10\n",
    "classifier_us3 = KNeighborsClassifier(n_neighbors=10)\n",
    "classifier_us3.fit(x_resampled_dr, y_resampled_dr)\n",
    "y_pred_us3 = classifier_us3.predict(X_test_us)"
   ]
  },
  {
   "cell_type": "code",
   "execution_count": 41,
   "metadata": {},
   "outputs": [
    {
     "name": "stdout",
     "output_type": "stream",
     "text": [
      "[[  511     0     0]\n",
      " [    0   344     0]\n",
      " [ 1598  1869 47459]]\n",
      "                  precision    recall  f1-score   support\n",
      "\n",
      "Dynamic Rollover       0.24      1.00      0.39       511\n",
      "           LOW-G       0.16      1.00      0.27       344\n",
      "           Other       1.00      0.93      0.96     50926\n",
      "\n",
      "        accuracy                           0.93     51781\n",
      "       macro avg       0.47      0.98      0.54     51781\n",
      "    weighted avg       0.99      0.93      0.95     51781\n",
      "\n"
     ]
    }
   ],
   "source": [
    "# check the performance of the model\n",
    "print(confusion_matrix(y_test_us, y_pred_us3))\n",
    "print(classification_report(y_test_us, y_pred_us3))"
   ]
  },
  {
   "cell_type": "code",
   "execution_count": 42,
   "metadata": {},
   "outputs": [],
   "source": [
    "# Run the KNN classifier\n",
    "# k=15\n",
    "classifier_us4 = KNeighborsClassifier(n_neighbors=15)\n",
    "classifier_us4.fit(x_resampled_dr, y_resampled_dr)\n",
    "y_pred_us4 = classifier_us4.predict(X_test_us)"
   ]
  },
  {
   "cell_type": "code",
   "execution_count": 43,
   "metadata": {},
   "outputs": [
    {
     "name": "stdout",
     "output_type": "stream",
     "text": [
      "[[  511     0     0]\n",
      " [    0   344     0]\n",
      " [ 2018  2249 46659]]\n",
      "                  precision    recall  f1-score   support\n",
      "\n",
      "Dynamic Rollover       0.20      1.00      0.34       511\n",
      "           LOW-G       0.13      1.00      0.23       344\n",
      "           Other       1.00      0.92      0.96     50926\n",
      "\n",
      "        accuracy                           0.92     51781\n",
      "       macro avg       0.44      0.97      0.51     51781\n",
      "    weighted avg       0.99      0.92      0.95     51781\n",
      "\n"
     ]
    }
   ],
   "source": [
    "# check the performance of the model\n",
    "print(confusion_matrix(y_test_us, y_pred_us4))\n",
    "print(classification_report(y_test_us, y_pred_us4))"
   ]
  },
  {
   "cell_type": "code",
   "execution_count": 52,
   "metadata": {},
   "outputs": [],
   "source": [
    "# Perform a grid search for the KNN model\n",
    "from sklearn.metrics import f1_score, make_scorer\n",
    "from sklearn.model_selection import GridSearchCV\n",
    "# Create a ne model to run KNN on\n",
    "KNN1 = KNeighborsClassifier()\n",
    "# create the parameter grid with k ranging from 1 to 20\n",
    "param_grid = {'n_neighbors' : np.arange(1,20)}\n",
    "# Run the grid search\n",
    "KNN1_gscv = GridSearchCV(KNN1, param_grid, cv=5, scoring = 'f1_micro')"
   ]
  },
  {
   "cell_type": "code",
   "execution_count": 57,
   "metadata": {},
   "outputs": [
    {
     "data": {
      "text/html": [
       "<style>#sk-container-id-4 {color: black;background-color: white;}#sk-container-id-4 pre{padding: 0;}#sk-container-id-4 div.sk-toggleable {background-color: white;}#sk-container-id-4 label.sk-toggleable__label {cursor: pointer;display: block;width: 100%;margin-bottom: 0;padding: 0.3em;box-sizing: border-box;text-align: center;}#sk-container-id-4 label.sk-toggleable__label-arrow:before {content: \"▸\";float: left;margin-right: 0.25em;color: #696969;}#sk-container-id-4 label.sk-toggleable__label-arrow:hover:before {color: black;}#sk-container-id-4 div.sk-estimator:hover label.sk-toggleable__label-arrow:before {color: black;}#sk-container-id-4 div.sk-toggleable__content {max-height: 0;max-width: 0;overflow: hidden;text-align: left;background-color: #f0f8ff;}#sk-container-id-4 div.sk-toggleable__content pre {margin: 0.2em;color: black;border-radius: 0.25em;background-color: #f0f8ff;}#sk-container-id-4 input.sk-toggleable__control:checked~div.sk-toggleable__content {max-height: 200px;max-width: 100%;overflow: auto;}#sk-container-id-4 input.sk-toggleable__control:checked~label.sk-toggleable__label-arrow:before {content: \"▾\";}#sk-container-id-4 div.sk-estimator input.sk-toggleable__control:checked~label.sk-toggleable__label {background-color: #d4ebff;}#sk-container-id-4 div.sk-label input.sk-toggleable__control:checked~label.sk-toggleable__label {background-color: #d4ebff;}#sk-container-id-4 input.sk-hidden--visually {border: 0;clip: rect(1px 1px 1px 1px);clip: rect(1px, 1px, 1px, 1px);height: 1px;margin: -1px;overflow: hidden;padding: 0;position: absolute;width: 1px;}#sk-container-id-4 div.sk-estimator {font-family: monospace;background-color: #f0f8ff;border: 1px dotted black;border-radius: 0.25em;box-sizing: border-box;margin-bottom: 0.5em;}#sk-container-id-4 div.sk-estimator:hover {background-color: #d4ebff;}#sk-container-id-4 div.sk-parallel-item::after {content: \"\";width: 100%;border-bottom: 1px solid gray;flex-grow: 1;}#sk-container-id-4 div.sk-label:hover label.sk-toggleable__label {background-color: #d4ebff;}#sk-container-id-4 div.sk-serial::before {content: \"\";position: absolute;border-left: 1px solid gray;box-sizing: border-box;top: 0;bottom: 0;left: 50%;z-index: 0;}#sk-container-id-4 div.sk-serial {display: flex;flex-direction: column;align-items: center;background-color: white;padding-right: 0.2em;padding-left: 0.2em;position: relative;}#sk-container-id-4 div.sk-item {position: relative;z-index: 1;}#sk-container-id-4 div.sk-parallel {display: flex;align-items: stretch;justify-content: center;background-color: white;position: relative;}#sk-container-id-4 div.sk-item::before, #sk-container-id-4 div.sk-parallel-item::before {content: \"\";position: absolute;border-left: 1px solid gray;box-sizing: border-box;top: 0;bottom: 0;left: 50%;z-index: -1;}#sk-container-id-4 div.sk-parallel-item {display: flex;flex-direction: column;z-index: 1;position: relative;background-color: white;}#sk-container-id-4 div.sk-parallel-item:first-child::after {align-self: flex-end;width: 50%;}#sk-container-id-4 div.sk-parallel-item:last-child::after {align-self: flex-start;width: 50%;}#sk-container-id-4 div.sk-parallel-item:only-child::after {width: 0;}#sk-container-id-4 div.sk-dashed-wrapped {border: 1px dashed gray;margin: 0 0.4em 0.5em 0.4em;box-sizing: border-box;padding-bottom: 0.4em;background-color: white;}#sk-container-id-4 div.sk-label label {font-family: monospace;font-weight: bold;display: inline-block;line-height: 1.2em;}#sk-container-id-4 div.sk-label-container {text-align: center;}#sk-container-id-4 div.sk-container {/* jupyter's `normalize.less` sets `[hidden] { display: none; }` but bootstrap.min.css set `[hidden] { display: none !important; }` so we also need the `!important` here to be able to override the default hidden behavior on the sphinx rendered scikit-learn.org. See: https://github.com/scikit-learn/scikit-learn/issues/21755 */display: inline-block !important;position: relative;}#sk-container-id-4 div.sk-text-repr-fallback {display: none;}</style><div id=\"sk-container-id-4\" class=\"sk-top-container\"><div class=\"sk-text-repr-fallback\"><pre>GridSearchCV(cv=5, estimator=KNeighborsClassifier(),\n",
       "             param_grid={&#x27;n_neighbors&#x27;: array([ 1,  2,  3,  4,  5,  6,  7,  8,  9, 10, 11, 12, 13, 14, 15, 16, 17,\n",
       "       18, 19])},\n",
       "             scoring=&#x27;f1_micro&#x27;)</pre><b>In a Jupyter environment, please rerun this cell to show the HTML representation or trust the notebook. <br />On GitHub, the HTML representation is unable to render, please try loading this page with nbviewer.org.</b></div><div class=\"sk-container\" hidden><div class=\"sk-item sk-dashed-wrapped\"><div class=\"sk-label-container\"><div class=\"sk-label sk-toggleable\"><input class=\"sk-toggleable__control sk-hidden--visually\" id=\"sk-estimator-id-4\" type=\"checkbox\" ><label for=\"sk-estimator-id-4\" class=\"sk-toggleable__label sk-toggleable__label-arrow\">GridSearchCV</label><div class=\"sk-toggleable__content\"><pre>GridSearchCV(cv=5, estimator=KNeighborsClassifier(),\n",
       "             param_grid={&#x27;n_neighbors&#x27;: array([ 1,  2,  3,  4,  5,  6,  7,  8,  9, 10, 11, 12, 13, 14, 15, 16, 17,\n",
       "       18, 19])},\n",
       "             scoring=&#x27;f1_micro&#x27;)</pre></div></div></div><div class=\"sk-parallel\"><div class=\"sk-parallel-item\"><div class=\"sk-item\"><div class=\"sk-label-container\"><div class=\"sk-label sk-toggleable\"><input class=\"sk-toggleable__control sk-hidden--visually\" id=\"sk-estimator-id-5\" type=\"checkbox\" ><label for=\"sk-estimator-id-5\" class=\"sk-toggleable__label sk-toggleable__label-arrow\">estimator: KNeighborsClassifier</label><div class=\"sk-toggleable__content\"><pre>KNeighborsClassifier()</pre></div></div></div><div class=\"sk-serial\"><div class=\"sk-item\"><div class=\"sk-estimator sk-toggleable\"><input class=\"sk-toggleable__control sk-hidden--visually\" id=\"sk-estimator-id-6\" type=\"checkbox\" ><label for=\"sk-estimator-id-6\" class=\"sk-toggleable__label sk-toggleable__label-arrow\">KNeighborsClassifier</label><div class=\"sk-toggleable__content\"><pre>KNeighborsClassifier()</pre></div></div></div></div></div></div></div></div></div></div>"
      ],
      "text/plain": [
       "GridSearchCV(cv=5, estimator=KNeighborsClassifier(),\n",
       "             param_grid={'n_neighbors': array([ 1,  2,  3,  4,  5,  6,  7,  8,  9, 10, 11, 12, 13, 14, 15, 16, 17,\n",
       "       18, 19])},\n",
       "             scoring='f1_micro')"
      ]
     },
     "execution_count": 57,
     "metadata": {},
     "output_type": "execute_result"
    }
   ],
   "source": [
    "#Fit the model to the data\n",
    "#Will use the undersampled data\n",
    "\n",
    "KNN1_gscv.fit(x_resampled_dr, y_resampled_dr)"
   ]
  },
  {
   "cell_type": "code",
   "execution_count": 58,
   "metadata": {},
   "outputs": [
    {
     "data": {
      "text/plain": [
       "{'n_neighbors': 1}"
      ]
     },
     "execution_count": 58,
     "metadata": {},
     "output_type": "execute_result"
    }
   ],
   "source": [
    "# The resulting optimal number of neighbors is 1. However 2 neighbor is \n",
    "print(KNN1_gscv.best_params_)"
   ]
  },
  {
   "cell_type": "code",
   "execution_count": 59,
   "metadata": {},
   "outputs": [
    {
     "name": "stdout",
     "output_type": "stream",
     "text": [
      "0.9937113344712796\n"
     ]
    }
   ],
   "source": [
    "#The model with n set to 1 had an accuracy of 99% which is likely due to the low bias and high variance\n",
    "print(KNN1_gscv.best_score_)"
   ]
  },
  {
   "cell_type": "code",
   "execution_count": 60,
   "metadata": {},
   "outputs": [],
   "source": [
    "# Now a model will be built for only Dynamic Rollover\n",
    "\n",
    "x_dr = df.drop(columns=['LOW-G', 'Label'])\n",
    "y_dr = df['Dynamic Rollover']"
   ]
  },
  {
   "cell_type": "code",
   "execution_count": 61,
   "metadata": {},
   "outputs": [],
   "source": [
    "# Create the split using the under sampling method\n",
    "# First apply stratification\n",
    "X_train_dr, X_test_dr, y_train_dr, y_test_dr = train_test_split(x_dr, y_dr, test_size=0.20,\n",
    "                                                                stratify=y_dr, random_state=42)"
   ]
  },
  {
   "cell_type": "code",
   "execution_count": 63,
   "metadata": {},
   "outputs": [],
   "source": [
    "# Apply scaling to the training set\n",
    "scaler.fit(X_train_dr)\n",
    "X_train_dr = scaler.transform(X_train_dr)\n",
    "X_test_dr = scaler.transform(X_test_dr)"
   ]
  },
  {
   "cell_type": "code",
   "execution_count": 64,
   "metadata": {},
   "outputs": [],
   "source": [
    "# Next apply the undersampling technique on the training set\n",
    "rus = RandomUnderSampler(random_state=42)\n",
    "x_sampled_dr, y_sampled_dr = rus.fit_resample(X_train_dr, y_train_dr)"
   ]
  },
  {
   "cell_type": "code",
   "execution_count": 66,
   "metadata": {},
   "outputs": [
    {
     "name": "stdout",
     "output_type": "stream",
     "text": [
      "[[51258    12]\n",
      " [    0   511]]\n",
      "              precision    recall  f1-score   support\n",
      "\n",
      "           0       1.00      1.00      1.00     51270\n",
      "           1       0.98      1.00      0.99       511\n",
      "\n",
      "    accuracy                           1.00     51781\n",
      "   macro avg       0.99      1.00      0.99     51781\n",
      "weighted avg       1.00      1.00      1.00     51781\n",
      "\n"
     ]
    }
   ],
   "source": [
    "# Now run a KNN model with n = 3\n",
    "classifier_DR1 = KNeighborsClassifier(n_neighbors=3)\n",
    "classifier_DR1.fit(x_sampled_dr, y_sampled_dr)\n",
    "y_pred_DR1 = classifier_DR1.predict(X_test_dr)\n",
    "# check the performance of the model\n",
    "print(confusion_matrix(y_test_dr, y_pred_DR1))\n",
    "print(classification_report(y_test_dr, y_pred_DR1))"
   ]
  },
  {
   "cell_type": "code",
   "execution_count": 67,
   "metadata": {},
   "outputs": [
    {
     "name": "stdout",
     "output_type": "stream",
     "text": [
      "[[51251    19]\n",
      " [    0   511]]\n",
      "              precision    recall  f1-score   support\n",
      "\n",
      "           0       1.00      1.00      1.00     51270\n",
      "           1       0.96      1.00      0.98       511\n",
      "\n",
      "    accuracy                           1.00     51781\n",
      "   macro avg       0.98      1.00      0.99     51781\n",
      "weighted avg       1.00      1.00      1.00     51781\n",
      "\n"
     ]
    }
   ],
   "source": [
    "# Now run a KNN model with n = 5\n",
    "classifier_DR2 = KNeighborsClassifier(n_neighbors=5)\n",
    "classifier_DR2.fit(x_sampled_dr, y_sampled_dr)\n",
    "y_pred_DR2 = classifier_DR2.predict(X_test_dr)\n",
    "# check the performance of the model\n",
    "print(confusion_matrix(y_test_dr, y_pred_DR2))\n",
    "print(classification_report(y_test_dr, y_pred_DR2))"
   ]
  },
  {
   "cell_type": "code",
   "execution_count": 68,
   "metadata": {},
   "outputs": [
    {
     "name": "stdout",
     "output_type": "stream",
     "text": [
      "[[51228    42]\n",
      " [    0   511]]\n",
      "              precision    recall  f1-score   support\n",
      "\n",
      "           0       1.00      1.00      1.00     51270\n",
      "           1       0.92      1.00      0.96       511\n",
      "\n",
      "    accuracy                           1.00     51781\n",
      "   macro avg       0.96      1.00      0.98     51781\n",
      "weighted avg       1.00      1.00      1.00     51781\n",
      "\n"
     ]
    }
   ],
   "source": [
    "# Now run a KNN model with n = 10\n",
    "classifier_DR3 = KNeighborsClassifier(n_neighbors=10)\n",
    "classifier_DR3.fit(x_sampled_dr, y_sampled_dr)\n",
    "y_pred_DR3 = classifier_DR3.predict(X_test_dr)\n",
    "# check the performance of the model\n",
    "print(confusion_matrix(y_test_dr, y_pred_DR3))\n",
    "print(classification_report(y_test_dr, y_pred_DR3))"
   ]
  },
  {
   "cell_type": "code",
   "execution_count": 69,
   "metadata": {},
   "outputs": [
    {
     "name": "stdout",
     "output_type": "stream",
     "text": [
      "[[51217    53]\n",
      " [    0   511]]\n",
      "              precision    recall  f1-score   support\n",
      "\n",
      "           0       1.00      1.00      1.00     51270\n",
      "           1       0.91      1.00      0.95       511\n",
      "\n",
      "    accuracy                           1.00     51781\n",
      "   macro avg       0.95      1.00      0.98     51781\n",
      "weighted avg       1.00      1.00      1.00     51781\n",
      "\n"
     ]
    }
   ],
   "source": [
    "# Now run a KNN model with n = 15\n",
    "classifier_DR4 = KNeighborsClassifier(n_neighbors=15)\n",
    "classifier_DR4.fit(x_sampled_dr, y_sampled_dr)\n",
    "y_pred_DR4 = classifier_DR4.predict(X_test_dr)\n",
    "# check the performance of the model\n",
    "print(confusion_matrix(y_test_dr, y_pred_DR4))\n",
    "print(classification_report(y_test_dr, y_pred_DR4))"
   ]
  },
  {
   "cell_type": "code",
   "execution_count": 70,
   "metadata": {},
   "outputs": [],
   "source": [
    "# Create a model for LOW-G only\n",
    "x_lg = df.drop(columns=['Dynamic Rollover', 'Label'])\n",
    "y_lg = df['LOW-G']\n"
   ]
  },
  {
   "cell_type": "code",
   "execution_count": 71,
   "metadata": {},
   "outputs": [],
   "source": [
    "# Create the split using the under sampling method\n",
    "# First apply stratification\n",
    "X_train_lg, X_test_lg, y_train_lg, y_test_lg = train_test_split(x_lg, y_lg, test_size=0.20,\n",
    "                                                                stratify=y_lg, random_state=42)"
   ]
  },
  {
   "cell_type": "code",
   "execution_count": 72,
   "metadata": {},
   "outputs": [],
   "source": [
    "# Apply scaling to the training set\n",
    "scaler.fit(X_train_lg)\n",
    "X_train_lg = scaler.transform(X_train_lg)\n",
    "X_test_lg = scaler.transform(X_test_lg)"
   ]
  },
  {
   "cell_type": "code",
   "execution_count": 73,
   "metadata": {},
   "outputs": [],
   "source": [
    "# Next apply the undersampling technique on the training set\n",
    "rus = RandomUnderSampler(random_state=42)\n",
    "x_sampled_lg, y_sampled_lg = rus.fit_resample(X_train_lg, y_train_lg)"
   ]
  },
  {
   "cell_type": "code",
   "execution_count": 74,
   "metadata": {},
   "outputs": [
    {
     "name": "stdout",
     "output_type": "stream",
     "text": [
      "[[51437     0]\n",
      " [    0   344]]\n",
      "              precision    recall  f1-score   support\n",
      "\n",
      "           0       1.00      1.00      1.00     51437\n",
      "           1       1.00      1.00      1.00       344\n",
      "\n",
      "    accuracy                           1.00     51781\n",
      "   macro avg       1.00      1.00      1.00     51781\n",
      "weighted avg       1.00      1.00      1.00     51781\n",
      "\n"
     ]
    }
   ],
   "source": [
    "# Now run a KNN model with n = 3\n",
    "classifier_LG1 = KNeighborsClassifier(n_neighbors=3)\n",
    "classifier_LG1.fit(x_sampled_lg, y_sampled_lg)\n",
    "y_pred_LG1 = classifier_LG1.predict(X_test_lg)\n",
    "# check the performance of the model\n",
    "print(confusion_matrix(y_test_lg, y_pred_LG1))\n",
    "print(classification_report(y_test_lg, y_pred_LG1))"
   ]
  },
  {
   "cell_type": "code",
   "execution_count": 75,
   "metadata": {},
   "outputs": [
    {
     "name": "stdout",
     "output_type": "stream",
     "text": [
      "[[51437     0]\n",
      " [    0   344]]\n",
      "              precision    recall  f1-score   support\n",
      "\n",
      "           0       1.00      1.00      1.00     51437\n",
      "           1       1.00      1.00      1.00       344\n",
      "\n",
      "    accuracy                           1.00     51781\n",
      "   macro avg       1.00      1.00      1.00     51781\n",
      "weighted avg       1.00      1.00      1.00     51781\n",
      "\n"
     ]
    }
   ],
   "source": [
    "# Now run a KNN model with n = 5\n",
    "classifier_LG2 = KNeighborsClassifier(n_neighbors=5)\n",
    "classifier_LG2.fit(x_sampled_lg, y_sampled_lg)\n",
    "y_pred_LG2 = classifier_LG2.predict(X_test_lg)\n",
    "# check the performance of the model\n",
    "print(confusion_matrix(y_test_lg, y_pred_LG2))\n",
    "print(classification_report(y_test_lg, y_pred_LG2))"
   ]
  },
  {
   "cell_type": "code",
   "execution_count": 76,
   "metadata": {},
   "outputs": [
    {
     "name": "stdout",
     "output_type": "stream",
     "text": [
      "[[51437     0]\n",
      " [    0   344]]\n",
      "              precision    recall  f1-score   support\n",
      "\n",
      "           0       1.00      1.00      1.00     51437\n",
      "           1       1.00      1.00      1.00       344\n",
      "\n",
      "    accuracy                           1.00     51781\n",
      "   macro avg       1.00      1.00      1.00     51781\n",
      "weighted avg       1.00      1.00      1.00     51781\n",
      "\n"
     ]
    }
   ],
   "source": [
    "# Now run a KNN model with n = 10\n",
    "classifier_LG3 = KNeighborsClassifier(n_neighbors=10)\n",
    "classifier_LG3.fit(x_sampled_lg, y_sampled_lg)\n",
    "y_pred_LG3 = classifier_LG3.predict(X_test_lg)\n",
    "# check the performance of the model\n",
    "print(confusion_matrix(y_test_lg, y_pred_LG3))\n",
    "print(classification_report(y_test_lg, y_pred_LG3))"
   ]
  },
  {
   "cell_type": "code",
   "execution_count": 77,
   "metadata": {},
   "outputs": [
    {
     "name": "stdout",
     "output_type": "stream",
     "text": [
      "[[51437     0]\n",
      " [    0   344]]\n",
      "              precision    recall  f1-score   support\n",
      "\n",
      "           0       1.00      1.00      1.00     51437\n",
      "           1       1.00      1.00      1.00       344\n",
      "\n",
      "    accuracy                           1.00     51781\n",
      "   macro avg       1.00      1.00      1.00     51781\n",
      "weighted avg       1.00      1.00      1.00     51781\n",
      "\n"
     ]
    }
   ],
   "source": [
    "# Now run a KNN model with n = 15\n",
    "classifier_LG4 = KNeighborsClassifier(n_neighbors=15)\n",
    "classifier_LG4.fit(x_sampled_lg, y_sampled_lg)\n",
    "y_pred_LG4 = classifier_LG4.predict(X_test_lg)\n",
    "# check the performance of the model\n",
    "print(confusion_matrix(y_test_lg, y_pred_LG4))\n",
    "print(classification_report(y_test_lg, y_pred_LG4))"
   ]
  },
  {
   "cell_type": "code",
   "execution_count": null,
   "metadata": {},
   "outputs": [],
   "source": [
    "  "
   ]
  }
 ],
 "metadata": {
  "kernelspec": {
   "display_name": "Python 3",
   "language": "python",
   "name": "python3"
  },
  "language_info": {
   "codemirror_mode": {
    "name": "ipython",
    "version": 3
   },
   "file_extension": ".py",
   "mimetype": "text/x-python",
   "name": "python",
   "nbconvert_exporter": "python",
   "pygments_lexer": "ipython3",
   "version": "3.8.5"
  }
 },
 "nbformat": 4,
 "nbformat_minor": 4
}
