{
 "cells": [
  {
   "cell_type": "code",
   "execution_count": 1,
   "id": "8c7ccf70",
   "metadata": {},
   "outputs": [],
   "source": [
    "import pickle\n",
    "import pandas as pd\n",
    "\n",
    "# this is the path to your pickle file (should be the same location as CSVs)\n",
    "path = r'C:\\RotorCraftData\\CSV'\n",
    "\n",
    "# the below function verifies that the dataframe you are working with is the same shape as the anticipated dataframe\n",
    "def test_dataframe_shape():\n",
    "    # load the dataframe to be tested\n",
    "    with open(f'{path}/working_df_aws.pkl', 'rb') as file:\n",
    "        df = pickle.load(file)\n",
    "         \n",
    "    # Perform the shape validation\n",
    "    # assert df.shape == (27572, 31)\n",
    "    return df\n",
    "\n",
    "# working dataframe that has 'Label', 'Dynamic Rollover', 'LOW-G' as the final 3 columns\n",
    "df = test_dataframe_shape().reset_index(drop=True)\n",
    "\n",
    "## to test on Dynamic Rollover\n",
    "# df = df.drop(columns=['Label', 'LOW-G'])\n",
    "## to test on LOW-G\n",
    "# df = df.drop(columns=['Label', 'Dynamic Rollover'])\n"
   ]
  },
  {
   "cell_type": "code",
   "execution_count": 2,
   "id": "4462c3d6",
   "metadata": {},
   "outputs": [
    {
     "data": {
      "text/plain": [
       "(258905, 28)"
      ]
     },
     "execution_count": 2,
     "metadata": {},
     "output_type": "execute_result"
    }
   ],
   "source": [
    "df.shape"
   ]
  },
  {
   "cell_type": "code",
   "execution_count": null,
   "id": "99faf9b3",
   "metadata": {},
   "outputs": [],
   "source": []
  }
 ],
 "metadata": {
  "kernelspec": {
   "display_name": "Python 3 (ipykernel)",
   "language": "python",
   "name": "python3"
  },
  "language_info": {
   "codemirror_mode": {
    "name": "ipython",
    "version": 3
   },
   "file_extension": ".py",
   "mimetype": "text/x-python",
   "name": "python",
   "nbconvert_exporter": "python",
   "pygments_lexer": "ipython3",
   "version": "3.8.0"
  }
 },
 "nbformat": 4,
 "nbformat_minor": 5
}
