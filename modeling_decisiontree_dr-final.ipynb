{
 "cells": [
  {
   "cell_type": "code",
   "execution_count": 1,
   "id": "3db48341",
   "metadata": {},
   "outputs": [],
   "source": [
    "import pickle\n",
    "import os\n",
    "import re\n",
    "import glob\n",
    "import pandas as pd"
   ]
  },
  {
   "cell_type": "code",
   "execution_count": 2,
   "id": "0fc2ff00",
   "metadata": {},
   "outputs": [
    {
     "name": "stdout",
     "output_type": "stream",
     "text": [
      "C:\\RotorCraftData\\DAEN690-Karate_Choppers\n"
     ]
    }
   ],
   "source": [
    "os.chdir('C:\\RotorCraftData\\DAEN690-Karate_Choppers')\n",
    "print(os.getcwd())"
   ]
  },
  {
   "cell_type": "code",
   "execution_count": 3,
   "id": "bc280105",
   "metadata": {},
   "outputs": [],
   "source": [
    "import pickle\n",
    "import os\n",
    "import re\n",
    "import pandas as pd\n",
    "\n",
    "# this is the path to the folder where you have the CSVs, NO OTHER CSVs SHOULD BE PRESENT\n",
    "# please make sure this path is not inside the scope of GitHub so we do not go over on data for our repo\n",
    "path = r'C:\\RotorCraftData\\CSV1\\CSV'\n",
    "pattern = r'.*2023\\.06\\.15.*\\.csv$'\n",
    "\n",
    "use_cols_dr = ['Elapsed Time', 'Date', 'System UTC Time', 'Altitude(MSL)', 'Altitude(AGL)', 'Roll Acceleration', 'Pitch Acceleration', 'Yaw Acceleration', \n",
    "               'Roll', 'Pitch', 'Yaw', 'Roll Rate', 'Pitch Rate', 'Yaw Rate', 'Groundspeed', 'Wind Speed(True)', 'Sideslip Angle', 'Gross Weight', 'Cyclic Pitch Pos-[0]', \n",
    "               'Cyclic Roll Pos-[0]', 'Collective Pos-[0]', 'Pedal Pos', 'Rotor Torque-[0]']\n",
    "\n",
    "use_cols_lg = ['Elapsed Time', 'Date', 'System UTC Time', 'Altitude(MSL)', 'Altitude(AGL)', 'Airspeed(True)', 'Roll Acceleration', \n",
    "               'Pitch Acceleration', 'Yaw Acceleration', 'Roll', 'Pitch', 'Yaw', 'Rotor RPM-[0]', 'Sideslip Angle', 'Vert. Speed', 'Gross Weight','Cyclic Pitch Pos-[0]', \n",
    "               'Cyclic Roll Pos-[0]', 'Collective Pos-[0]', 'Pedal Pos', 'Rotor Torque-[0]', 'Wind Speed(True)']\n",
    "\n",
    "# the data will be labeled using the information from the flight logs\n",
    "label_table = pd.DataFrame({\n",
    "    'Date': ['2023-06-15', '2023-06-15', '2023-06-15', '2023-06-15', '2023-06-15', '2023-06-15', '2023-06-15', '2023-06-15', '2023-06-15', '2023-06-15', '2023-06-15', '2023-06-15', '2023-06-15', '2023-06-15', '2023-06-15', '2023-06-15', '2023-06-15', '2023-06-15'],  # Replace with actual dates of maneuvers\n",
    "    # Replace with actual start time of maneuvers\n",
    "    'StartTime': ['13:22:15.0', '13:25:25.0', '13:29:25.0', '11:56:25.0', '11:58:03.0', '11:59:51.0', '16:10:04.0', '16:11:41.0', '16:14:20.0', '13:43:12.0', '13:44:10.0', '13:45:19.0', '12:08:11.0', '12:09:31.0', '12:10:51.0', '16:34:28.0', '16:35:06.0', '16:38:26.0'],\n",
    "    # Replace with actual end time of maneuvers\n",
    "    'EndTime': ['13:22:25.0', '13:25:38.0', '13:29:40.0', '11:56:38.0', '11:58:24.0', '12:00:00.0', '16:10:12.0', '16:11:46.0', '16:14:29.0', '13:43:35.0', '13:44:18.0', '13:45:30.0', '12:08:35.0', '12:09:52.0', '12:11:18.0', '16:34:42.0', '16:35:27.0', '16:38:36.0'],\n",
    "    'Label': ['Dynamic Rollover', 'Dynamic Rollover', 'Dynamic Rollover', 'Dynamic Rollover', 'Dynamic Rollover', 'Dynamic Rollover', 'Dynamic Rollover', 'Dynamic Rollover', 'Dynamic Rollover', 'LOW-G', 'LOW-G', 'LOW-G', 'LOW-G', 'LOW-G', 'LOW-G', 'LOW-G', 'LOW-G', 'LOW-G']  # Replace with maneuver names\n",
    "})\n",
    "\n",
    "# convert date, start time, and end time columns to datetime type\n",
    "label_table['Date'] = pd.to_datetime(label_table['Date'])\n",
    "label_table['StartTime'] = pd.to_datetime(\n",
    "    label_table['StartTime'], format='%H:%M:%S.%f').dt.strftime('%H:%M:%S.%f')\n",
    "label_table['EndTime'] = pd.to_datetime(\n",
    "    label_table['EndTime'], format='%H:%M:%S.%f').dt.strftime('%H:%M:%S.%f')\n",
    "\n",
    "\n",
    "def combine_csv_files(csv_directory, columns_to_use, label_df):\n",
    "    # get list of CSV file paths in the directory\n",
    "    csv_files = [os.path.join(csv_directory, filename) for filename in os.listdir(\n",
    "        csv_directory) if re.match(pattern, filename)]\n",
    "    # create an empty dataframe to store the combined data\n",
    "    combined_df = pd.DataFrame()\n",
    "\n",
    "    # iterate over each CSV file\n",
    "    for file in csv_files:\n",
    "        # read CSV file and select desired columns\n",
    "        temp_df = pd.read_csv(file, usecols=columns_to_use, names=columns_to_use, skiprows=3, skipfooter=1, engine='python')\n",
    "        # drop rows that Elapsed Time are mostly null, these are the breaks in simulation\n",
    "        temp_df.dropna(subset=['Elapsed Time'], inplace=True)\n",
    "        # temp_df.drop(['Elapsed Time'], inplace=True)\n",
    "        temp_df.dropna(inplace=True)\n",
    "        # concatenate the temporary dataframe with the running dataframe\n",
    "        combined_df = pd.concat([combined_df, temp_df], ignore_index=True)\n",
    "\n",
    "    # convert the time column on original df to correct format\n",
    "    combined_df['System UTC Time'] = pd.to_datetime(\n",
    "    combined_df['System UTC Time'], format='%H:%M:%S.%f').dt.strftime('%H:%M:%S.%f')\n",
    "    # convert the date column on original df to correct format\n",
    "    combined_df['Date'] = pd.to_datetime(combined_df['Date'])\n",
    "    \n",
    "    # apply the labeling to the dataset\n",
    "    for _, row in label_df.iterrows():\n",
    "        # extract date, start time, and end time from the current row\n",
    "        date = row['Date']\n",
    "        start_time = row['StartTime']\n",
    "        end_time = row['EndTime']\n",
    "        label = row['Label']\n",
    "\n",
    "        # filter the existing dataset based on matching date and within start time and end time\n",
    "        filter_condition = (combined_df['Date'] == date) & (\n",
    "            combined_df['System UTC Time'].between(start_time, end_time))\n",
    "        combined_df.loc[filter_condition, 'Label'] = label\n",
    "    dummies_df = pd.get_dummies(combined_df['Label'], dummy_na=False)\n",
    "    dummies_df = dummies_df.astype(int)\n",
    "    combined_df = pd.concat([combined_df, dummies_df], axis=1)\n",
    "    # Convert the time column to pandas datetime format if it's not already in that format\n",
    "    combined_df['System UTC Time'] = pd.to_datetime(combined_df['System UTC Time'], format='%H:%M:%S.%f')\n",
    "\n",
    "    # Set the start and end time range\n",
    "    start_time = pd.to_datetime('11:56:25.0', format='%H:%M:%S.%f')\n",
    "    end_time = pd.to_datetime('16:38:26.0', format='%H:%M:%S.%f')\n",
    "\n",
    "    # Filter the DataFrame to include rows between the start and end times\n",
    "    combined_df = combined_df[(combined_df['System UTC Time'] >= start_time) & (combined_df['System UTC Time'] <= end_time)].copy()\n",
    "\n",
    "    combined_df.drop(['Elapsed Time', 'Date', 'System UTC Time', 'Label'], inplace=True, axis=1)\n",
    "    \n",
    "    return combined_df\n",
    "\n",
    "# this calls the function from above that cleans and creates dummy variables for our target variables\n",
    "df_dr = combine_csv_files(path, use_cols_dr, label_table)\n",
    "df_dr.drop(['LOW-G'], inplace=True, axis=1)\n",
    "\n",
    "df_lg = combine_csv_files(path, use_cols_lg, label_table)\n",
    "df_lg.drop(['Dynamic Rollover'], inplace=True, axis=1)\n",
    "# this will create a pickle file with the working dataframe in your directory with the original CSV files\n",
    "# you will not need to run this script again, as we will load in the dataframe from the pickle file\n",
    "with open(f'{path}/dynamic_rollover.pkl', 'wb') as f:\n",
    "    pickle.dump(df_dr, f)\n",
    "\n",
    "with open(f'{path}/low_g.pkl', 'wb') as f:\n",
    "    pickle.dump(df_lg, f)"
   ]
  },
  {
   "cell_type": "code",
   "execution_count": 4,
   "id": "56402381",
   "metadata": {},
   "outputs": [
    {
     "data": {
      "text/plain": [
       "(258905, 21)"
      ]
     },
     "execution_count": 4,
     "metadata": {},
     "output_type": "execute_result"
    }
   ],
   "source": [
    "df_dr.shape"
   ]
  },
  {
   "cell_type": "code",
   "execution_count": 5,
   "id": "e3dfa4d7",
   "metadata": {},
   "outputs": [
    {
     "data": {
      "text/plain": [
       "Index(['Altitude(MSL)', 'Altitude(AGL)', 'Roll Acceleration',\n",
       "       'Pitch Acceleration', 'Yaw Acceleration', 'Roll', 'Pitch', 'Yaw',\n",
       "       'Roll Rate', 'Pitch Rate', 'Yaw Rate', 'Groundspeed',\n",
       "       'Wind Speed(True)', 'Sideslip Angle', 'Gross Weight',\n",
       "       'Cyclic Pitch Pos-[0]', 'Cyclic Roll Pos-[0]', 'Collective Pos-[0]',\n",
       "       'Pedal Pos', 'Rotor Torque-[0]', 'Dynamic Rollover'],\n",
       "      dtype='object')"
      ]
     },
     "execution_count": 5,
     "metadata": {},
     "output_type": "execute_result"
    }
   ],
   "source": [
    "cols = df_dr.columns\n",
    "cols"
   ]
  },
  {
   "cell_type": "markdown",
   "id": "15579367",
   "metadata": {},
   "source": [
    " # Decision tree\n",
    "1.  Decision tree train/test split \n",
    "https://www.datacamp.com/tutorial/decision-tree-classification-python"
   ]
  },
  {
   "cell_type": "code",
   "execution_count": 6,
   "id": "2623643e",
   "metadata": {},
   "outputs": [],
   "source": [
    "# Load libraries\n",
    "import pandas as pd\n",
    "from sklearn.tree import DecisionTreeClassifier # Import Decision Tree Classifier\n",
    "from sklearn.model_selection import train_test_split # Import train_test_split function\n",
    "from sklearn import metrics #Import scikit-learn metrics module for accuracy calculation\n",
    "from sklearn.model_selection import RandomizedSearchCV\n",
    "from sklearn.preprocessing import StandardScaler\n",
    "from sklearn.model_selection import train_test_split\n",
    "from sklearn.metrics import accuracy_score\n",
    "from sklearn.metrics import precision_score\n",
    "from sklearn.metrics import recall_score"
   ]
  },
  {
   "cell_type": "code",
   "execution_count": 7,
   "id": "e8bad317",
   "metadata": {},
   "outputs": [
    {
     "data": {
      "text/html": [
       "<div>\n",
       "<style scoped>\n",
       "    .dataframe tbody tr th:only-of-type {\n",
       "        vertical-align: middle;\n",
       "    }\n",
       "\n",
       "    .dataframe tbody tr th {\n",
       "        vertical-align: top;\n",
       "    }\n",
       "\n",
       "    .dataframe thead th {\n",
       "        text-align: right;\n",
       "    }\n",
       "</style>\n",
       "<table border=\"1\" class=\"dataframe\">\n",
       "  <thead>\n",
       "    <tr style=\"text-align: right;\">\n",
       "      <th></th>\n",
       "      <th>Altitude(MSL)</th>\n",
       "      <th>Altitude(AGL)</th>\n",
       "      <th>Roll Acceleration</th>\n",
       "      <th>Pitch Acceleration</th>\n",
       "      <th>Yaw Acceleration</th>\n",
       "      <th>Roll</th>\n",
       "      <th>Pitch</th>\n",
       "      <th>Yaw</th>\n",
       "      <th>Roll Rate</th>\n",
       "      <th>Pitch Rate</th>\n",
       "      <th>...</th>\n",
       "      <th>Groundspeed</th>\n",
       "      <th>Wind Speed(True)</th>\n",
       "      <th>Sideslip Angle</th>\n",
       "      <th>Gross Weight</th>\n",
       "      <th>Cyclic Pitch Pos-[0]</th>\n",
       "      <th>Cyclic Roll Pos-[0]</th>\n",
       "      <th>Collective Pos-[0]</th>\n",
       "      <th>Pedal Pos</th>\n",
       "      <th>Rotor Torque-[0]</th>\n",
       "      <th>Dynamic Rollover</th>\n",
       "    </tr>\n",
       "  </thead>\n",
       "  <tbody>\n",
       "    <tr>\n",
       "      <th>0</th>\n",
       "      <td>39.464819</td>\n",
       "      <td>-74.565922</td>\n",
       "      <td>57.59</td>\n",
       "      <td>0.07</td>\n",
       "      <td>315.631</td>\n",
       "      <td>303.330</td>\n",
       "      <td>0.156</td>\n",
       "      <td>0.144</td>\n",
       "      <td>303.054</td>\n",
       "      <td>-0.010</td>\n",
       "      <td>...</td>\n",
       "      <td>0.0</td>\n",
       "      <td>-0.0</td>\n",
       "      <td>0.0</td>\n",
       "      <td>0.0</td>\n",
       "      <td>57.585</td>\n",
       "      <td>29.92</td>\n",
       "      <td>57.585</td>\n",
       "      <td>29.92</td>\n",
       "      <td>0.067</td>\n",
       "      <td>0</td>\n",
       "    </tr>\n",
       "    <tr>\n",
       "      <th>1</th>\n",
       "      <td>39.464819</td>\n",
       "      <td>-74.565922</td>\n",
       "      <td>57.59</td>\n",
       "      <td>0.07</td>\n",
       "      <td>315.631</td>\n",
       "      <td>303.330</td>\n",
       "      <td>0.156</td>\n",
       "      <td>0.144</td>\n",
       "      <td>303.054</td>\n",
       "      <td>-0.010</td>\n",
       "      <td>...</td>\n",
       "      <td>0.0</td>\n",
       "      <td>-0.0</td>\n",
       "      <td>0.0</td>\n",
       "      <td>0.0</td>\n",
       "      <td>57.585</td>\n",
       "      <td>29.92</td>\n",
       "      <td>57.585</td>\n",
       "      <td>29.92</td>\n",
       "      <td>0.067</td>\n",
       "      <td>0</td>\n",
       "    </tr>\n",
       "    <tr>\n",
       "      <th>2</th>\n",
       "      <td>39.464819</td>\n",
       "      <td>-74.565922</td>\n",
       "      <td>57.59</td>\n",
       "      <td>0.07</td>\n",
       "      <td>315.631</td>\n",
       "      <td>303.330</td>\n",
       "      <td>0.156</td>\n",
       "      <td>0.144</td>\n",
       "      <td>303.054</td>\n",
       "      <td>-0.010</td>\n",
       "      <td>...</td>\n",
       "      <td>0.0</td>\n",
       "      <td>-0.0</td>\n",
       "      <td>0.0</td>\n",
       "      <td>0.0</td>\n",
       "      <td>57.585</td>\n",
       "      <td>29.92</td>\n",
       "      <td>57.585</td>\n",
       "      <td>29.92</td>\n",
       "      <td>0.067</td>\n",
       "      <td>0</td>\n",
       "    </tr>\n",
       "    <tr>\n",
       "      <th>3</th>\n",
       "      <td>39.464819</td>\n",
       "      <td>-74.565922</td>\n",
       "      <td>57.59</td>\n",
       "      <td>0.07</td>\n",
       "      <td>315.631</td>\n",
       "      <td>303.330</td>\n",
       "      <td>0.156</td>\n",
       "      <td>0.144</td>\n",
       "      <td>303.054</td>\n",
       "      <td>-0.012</td>\n",
       "      <td>...</td>\n",
       "      <td>0.0</td>\n",
       "      <td>-0.0</td>\n",
       "      <td>0.0</td>\n",
       "      <td>0.0</td>\n",
       "      <td>57.585</td>\n",
       "      <td>29.92</td>\n",
       "      <td>57.585</td>\n",
       "      <td>29.92</td>\n",
       "      <td>0.067</td>\n",
       "      <td>0</td>\n",
       "    </tr>\n",
       "    <tr>\n",
       "      <th>4</th>\n",
       "      <td>39.464819</td>\n",
       "      <td>-74.565922</td>\n",
       "      <td>57.59</td>\n",
       "      <td>0.07</td>\n",
       "      <td>315.631</td>\n",
       "      <td>303.331</td>\n",
       "      <td>0.156</td>\n",
       "      <td>0.144</td>\n",
       "      <td>303.055</td>\n",
       "      <td>-0.016</td>\n",
       "      <td>...</td>\n",
       "      <td>0.0</td>\n",
       "      <td>-0.0</td>\n",
       "      <td>0.0</td>\n",
       "      <td>0.0</td>\n",
       "      <td>57.585</td>\n",
       "      <td>29.92</td>\n",
       "      <td>57.585</td>\n",
       "      <td>29.92</td>\n",
       "      <td>0.067</td>\n",
       "      <td>0</td>\n",
       "    </tr>\n",
       "  </tbody>\n",
       "</table>\n",
       "<p>5 rows × 21 columns</p>\n",
       "</div>"
      ],
      "text/plain": [
       "  Altitude(MSL)  Altitude(AGL)  Roll Acceleration  Pitch Acceleration  \\\n",
       "0     39.464819     -74.565922              57.59                0.07   \n",
       "1     39.464819     -74.565922              57.59                0.07   \n",
       "2     39.464819     -74.565922              57.59                0.07   \n",
       "3     39.464819     -74.565922              57.59                0.07   \n",
       "4     39.464819     -74.565922              57.59                0.07   \n",
       "\n",
       "   Yaw Acceleration     Roll  Pitch    Yaw  Roll Rate  Pitch Rate  ...  \\\n",
       "0           315.631  303.330  0.156  0.144    303.054      -0.010  ...   \n",
       "1           315.631  303.330  0.156  0.144    303.054      -0.010  ...   \n",
       "2           315.631  303.330  0.156  0.144    303.054      -0.010  ...   \n",
       "3           315.631  303.330  0.156  0.144    303.054      -0.012  ...   \n",
       "4           315.631  303.331  0.156  0.144    303.055      -0.016  ...   \n",
       "\n",
       "   Groundspeed  Wind Speed(True)  Sideslip Angle  Gross Weight  \\\n",
       "0          0.0              -0.0             0.0           0.0   \n",
       "1          0.0              -0.0             0.0           0.0   \n",
       "2          0.0              -0.0             0.0           0.0   \n",
       "3          0.0              -0.0             0.0           0.0   \n",
       "4          0.0              -0.0             0.0           0.0   \n",
       "\n",
       "   Cyclic Pitch Pos-[0]  Cyclic Roll Pos-[0]  Collective Pos-[0]  Pedal Pos  \\\n",
       "0                57.585                29.92              57.585      29.92   \n",
       "1                57.585                29.92              57.585      29.92   \n",
       "2                57.585                29.92              57.585      29.92   \n",
       "3                57.585                29.92              57.585      29.92   \n",
       "4                57.585                29.92              57.585      29.92   \n",
       "\n",
       "   Rotor Torque-[0]  Dynamic Rollover  \n",
       "0             0.067                 0  \n",
       "1             0.067                 0  \n",
       "2             0.067                 0  \n",
       "3             0.067                 0  \n",
       "4             0.067                 0  \n",
       "\n",
       "[5 rows x 21 columns]"
      ]
     },
     "execution_count": 7,
     "metadata": {},
     "output_type": "execute_result"
    }
   ],
   "source": [
    "df_dr.head()"
   ]
  },
  {
   "cell_type": "markdown",
   "id": "7ac05876",
   "metadata": {},
   "source": [
    "# Splitting the dataset into train and test for DT"
   ]
  },
  {
   "cell_type": "code",
   "execution_count": 8,
   "id": "90b28617",
   "metadata": {},
   "outputs": [],
   "source": [
    "#make a train/test split and scale the predictors with the StandardScaler class:\n",
    "#X is the predictors, y and z has the response variables.\n",
    "X = df_dr.drop(['Dynamic Rollover'], axis=1)\n",
    "y =  df_dr['Dynamic Rollover']\n",
    "\n",
    "X_train, X_test, y_train, y_test = train_test_split(X, y, test_size=0.25, random_state=42)"
   ]
  },
  {
   "cell_type": "code",
   "execution_count": 9,
   "id": "2bed62fe",
   "metadata": {},
   "outputs": [],
   "source": [
    "\n",
    "\n",
    "ss = StandardScaler()\n",
    "#Scaling X \n",
    "X_scaled = ss.fit_transform(X)\n",
    "#Scaling the train and test sets.\n",
    "X_train_scaled = ss.fit_transform(X_train) # The dataset over which the model will be trained\n",
    "y_train_scaled = ss.fit_transform(X_train) # This contains the dynamic rollover target\n",
    "X_test_scaled = ss.transform(X_test)\n",
    "y_test_scaled = ss.transform(X_test)\n",
    "\n"
   ]
  },
  {
   "cell_type": "markdown",
   "id": "b29bdbd0",
   "metadata": {},
   "source": [
    "# #  Build and fit the model"
   ]
  },
  {
   "cell_type": "code",
   "execution_count": 10,
   "id": "21223c55",
   "metadata": {},
   "outputs": [],
   "source": [
    "# Create Decision Tree classifer object\n",
    "DR_model = DecisionTreeClassifier(random_state = 42) \n",
    "\n",
    "# Fit the model on training sets\n",
    "DR_model = DR_model.fit(X_train, y_train) "
   ]
  },
  {
   "cell_type": "markdown",
   "id": "5c9c6b79",
   "metadata": {},
   "source": [
    "# Make predictions"
   ]
  },
  {
   "cell_type": "code",
   "execution_count": 11,
   "id": "35f8153d",
   "metadata": {},
   "outputs": [
    {
     "name": "stdout",
     "output_type": "stream",
     "text": [
      "Predicted values:\n",
      "[0 0 0 ... 0 0 0]\n"
     ]
    }
   ],
   "source": [
    "y_pred = DR_model.predict(X_test) \n",
    "print(\"Predicted values:\")\n",
    "print(y_pred)\n",
    "# Predict the probability of each class\n",
    "y_predProba = DR_model.predict_proba "
   ]
  },
  {
   "cell_type": "code",
   "execution_count": 12,
   "id": "2779e579",
   "metadata": {},
   "outputs": [],
   "source": [
    "# predict probabilities\n",
    "y_predProba = DR_model.predict_proba(X_test)\n",
    "# retrieve just the probabilities for the positive class\n",
    "y_probs = y_predProba[:, 1]"
   ]
  },
  {
   "cell_type": "code",
   "execution_count": 13,
   "id": "61e0cc3f",
   "metadata": {
    "scrolled": true
   },
   "outputs": [
    {
     "name": "stdout",
     "output_type": "stream",
     "text": [
      "Most important variables:\n",
      "Altitude(MSL): 0.259601517198223\n",
      "Gross Weight: 0.17026152355706398\n",
      "Pitch Acceleration: 0.13729955360384352\n",
      "Altitude(AGL): 0.12904222207608762\n",
      "Cyclic Pitch Pos-[0]: 0.1121464369376978\n",
      "Yaw: 0.07924728867074556\n",
      "Yaw Rate: 0.047636492484582155\n",
      "Yaw Acceleration: 0.041117482343546896\n",
      "Roll Rate: 0.016228858954032498\n",
      "Pitch Rate: 0.007418624174177023\n",
      "Pedal Pos: 0.0\n",
      "Groundspeed: 0.0\n",
      "Wind Speed(True): 0.0\n",
      "Pitch: 0.0\n",
      "Roll: 0.0\n",
      "Sideslip Angle: 0.0\n",
      "Cyclic Roll Pos-[0]: 0.0\n",
      "Roll Acceleration: 0.0\n",
      "Collective Pos-[0]: 0.0\n",
      "Rotor Torque-[0]: 0.0\n"
     ]
    }
   ],
   "source": [
    "# get importance\n",
    "from matplotlib import pyplot\n",
    "import numpy as np\n",
    "#Get and sort feature of importance\n",
    "importances = DR_model.feature_importances_\n",
    "dr_indices = np.argsort(importances)[::-1]\n",
    "# Retrieve feature names from the training set\n",
    "feature_names = list(X_train.columns)\n",
    "# Print the most important variables\n",
    "print(\"Most important variables:\")\n",
    "for i in dr_indices:\n",
    "    print(f\"{feature_names[i]}: {importances[i]}\")\n"
   ]
  },
  {
   "cell_type": "code",
   "execution_count": 14,
   "id": "91295255",
   "metadata": {},
   "outputs": [
    {
     "data": {
      "image/png": "[encoded data removed]",
      "text/plain": [
       "<Figure size 640x480 with 1 Axes>"
      ]
     },
     "metadata": {},
     "output_type": "display_data"
    }
   ],
   "source": [
    "#Plotting the feature of importance\n",
    "#nlargest(n) is a pandas Series method which will return a subset of the series with the largest n values. \n",
    "#This is useful if you've got lots of features in your model and you only want to plot the most important.\n",
    "(pd.Series(DR_model.feature_importances_, index=X_train.columns)\n",
    "   .nlargest(5)\n",
    "   .plot(kind='barh', color=\"purple\", align=\"center\", \n",
    "    title=\"Decision Tree feature of importance for Dynamic Rollover\").invert_yaxis())"
   ]
  },
  {
   "cell_type": "markdown",
   "id": "4ab05dc5",
   "metadata": {},
   "source": [
    "# # Adding tuning parameters and fitting for Decision tree"
   ]
  },
  {
   "cell_type": "code",
   "execution_count": 15,
   "id": "d8d80328",
   "metadata": {},
   "outputs": [],
   "source": [
    "#Using max_depth, criterion, max_features, min_samples_split\n",
    "parameters = {'max_depth' : (10,30,50, 70, 90, 100),\n",
    "             'criterion': ('gine', 'entropy'),\n",
    "             'max_features' : ('auto', 'sqrt', 'log2'),\n",
    "             'min_samples_split': (6, 8, 10,12)}"
   ]
  },
  {
   "cell_type": "code",
   "execution_count": 16,
   "id": "4473c525",
   "metadata": {},
   "outputs": [],
   "source": [
    "#Using max_depth, criterion, max_features, min_samples_split\n",
    "parameters2 = {'max_depth' : (10,20),\n",
    "             'criterion': ('gine', 'entropy'),\n",
    "             'max_features' : ('auto', 'sqrt', 'log2'),\n",
    "             'min_samples_split': (6, 8)}"
   ]
  },
  {
   "cell_type": "code",
   "execution_count": 17,
   "id": "174b910a",
   "metadata": {},
   "outputs": [],
   "source": [
    "#strat_k_fold = StratifiedKFold(n_splits=10, shuffle=True, random_state=42)"
   ]
  },
  {
   "cell_type": "code",
   "execution_count": 18,
   "id": "f6e2af5b",
   "metadata": {},
   "outputs": [],
   "source": [
    "import warnings\n",
    "warnings.filterwarnings('ignore')"
   ]
  },
  {
   "cell_type": "code",
   "execution_count": null,
   "id": "eea8941e",
   "metadata": {},
   "outputs": [],
   "source": [
    "#DR grid\n",
    "drgrid = RandomizedSearchCV(DecisionTreeClassifier(),param_distributions=parameters, cv = 10)\n",
    "#fit the grid\n",
    "drgrid.fit(X_train,y_train)"
   ]
  },
  {
   "cell_type": "markdown",
   "id": "85189565",
   "metadata": {},
   "source": [
    "# # Finding best estimators"
   ]
  },
  {
   "cell_type": "code",
   "execution_count": null,
   "id": "f8bb4e3b",
   "metadata": {},
   "outputs": [],
   "source": [
    "#Find the best estimator For DR\n",
    "drbest_estimator = drgrid.best_estimator_\n",
    "drbest_estimator"
   ]
  },
  {
   "cell_type": "markdown",
   "id": "0c7440c3",
   "metadata": {},
   "source": [
    "# # Rebuilding the models based on the best estimator results."
   ]
  },
  {
   "cell_type": "code",
   "execution_count": null,
   "id": "2367da3c",
   "metadata": {},
   "outputs": [],
   "source": [
    "#Re build the model with best estimators for DR\n",
    "DT_drmodel =DecisionTreeClassifier(criterion='entropy', max_depth=100, max_features='auto',\n",
    "                       min_samples_split=6)\n",
    "\n",
    "DT_drmodel = DT_drmodel.fit(X_train, y_train)"
   ]
  },
  {
   "cell_type": "code",
   "execution_count": null,
   "id": "d8ee3f7f",
   "metadata": {},
   "outputs": [],
   "source": [
    "# imports for classifiers and metrics\n",
    "from sklearn.naive_bayes import GaussianNB\n",
    "from sklearn.metrics import f1_score\n",
    "#I'm replacing X_train with X only since I am testing X,Y fitted\n",
    "#Print accuracy of the lowG model\n",
    "print(f'Train Accuracy - : {DT_drmodel.score(X_train, y_train): .3f}')\n",
    "print(f'Test Accuracy - : {DT_drmodel.score(X_test, y_test): .3f}')\n"
   ]
  },
  {
   "cell_type": "markdown",
   "id": "e2f27e08",
   "metadata": {},
   "source": [
    "# # Evaluating the Model"
   ]
  },
  {
   "cell_type": "code",
   "execution_count": null,
   "id": "f31669dc",
   "metadata": {},
   "outputs": [],
   "source": [
    "# imports for classifiers and metrics\n",
    "from sklearn.naive_bayes import GaussianNB\n",
    "from sklearn.metrics import f1_score\n",
    "#Scores without using average setting for f1 score\n",
    "score_drMacro = f1_score(y_test, y_pred)\n",
    "print('Simple F1 score for Dynamic Rollover:',  score_drMacro)\n",
    "# F1 score\n",
    "# FORMULA- F1 = 2 * (precision * recall) / (precision + recall)\n",
    "#'macro':Calculate metrics for each label, and find their unweighted mean. This does not take label imbalance into account.\n",
    "score_drMacro = f1_score(y_test, y_pred, average='macro')\n",
    "print('Dynamic Rollover f1 Macro score:',score_drMacro)\n",
    "#'micro':Calculate metrics globally by counting the total true positives, false negatives and false positives.\n",
    "score_drMicro = f1_score(y_test, y_pred, average='micro')\n",
    "print('Dynamic Rollover f1 Micro score:',score_drMicro)\n",
    "# 'weighted':Calculate metrics for each label, and find their average weighted by support (the number of true instances for each label). This alters ‘macro’ to account for label imbalance; it can result in an F-score that is not between precision and recall.\n",
    "score_drW = f1_score(y_test, y_pred, average='weighted')\n",
    "print('Dynamic Rollover f1 Weighted score:', score_drW)\n"
   ]
  },
  {
   "cell_type": "code",
   "execution_count": null,
   "id": "015520f4",
   "metadata": {},
   "outputs": [],
   "source": [
    "from sklearn.metrics import recall_score"
   ]
  },
  {
   "cell_type": "code",
   "execution_count": null,
   "id": "77c279c7",
   "metadata": {},
   "outputs": [],
   "source": [
    "# accuracy\n",
    "accuracydr = accuracy_score(y_test, y_pred)\n",
    "print(\"Accuracy:\", accuracydr)\n",
    "\n",
    "precision_dr = precision_score(y_test, y_pred)\n",
    "print(\"Precision:\", precision_dr)\n",
    "\n",
    "recall_dr = recall_score(y_test, y_pred)\n",
    "print(\"Recall:\",recall_dr)\n",
    "\n",
    "# f1 score\n",
    "f1_dr = f1_score(y_test, y_pred)\n",
    "print(\"DR f1:\",f1_dr)"
   ]
  },
  {
   "cell_type": "markdown",
   "id": "2a7e0ab2",
   "metadata": {},
   "source": [
    "# Confusion matrix and Classification report for DR"
   ]
  },
  {
   "cell_type": "code",
   "execution_count": null,
   "id": "607c6124",
   "metadata": {},
   "outputs": [],
   "source": [
    "from sklearn.model_selection import KFold, cross_val_score \n",
    "from sklearn.metrics import confusion_matrix\n",
    "from sklearn.metrics import classification_report\n"
   ]
  },
  {
   "cell_type": "code",
   "execution_count": null,
   "id": "eefc3c5c",
   "metadata": {},
   "outputs": [],
   "source": [
    "conf_matrixdr = confusion_matrix(y_test, y_pred)\n",
    "print(conf_matrixdr)\n",
    "\n",
    "#DR Classification report\n",
    "print(\"Classification report for Dynamic Rollover: \\n\",\n",
    "      classification_report(y_test, y_pred))"
   ]
  },
  {
   "cell_type": "code",
   "execution_count": null,
   "id": "3c915079",
   "metadata": {},
   "outputs": [],
   "source": [
    "from sklearn.model_selection import KFold, cross_val_score \n",
    "from sklearn.metrics import confusion_matrix, ConfusionMatrixDisplay"
   ]
  },
  {
   "cell_type": "code",
   "execution_count": null,
   "id": "9312e910",
   "metadata": {},
   "outputs": [],
   "source": [
    "#Top left = TrueNegative, Topright= FalseNegative , bottonleft=FalsePositive , bottonright= True positive \n",
    "conf_matrixdr = ConfusionMatrixDisplay(confusion_matrix=conf_matrixdr)\n",
    "conf_matrixdr.plot()\n",
    "#, display_labels=['DR','No DR']"
   ]
  },
  {
   "cell_type": "markdown",
   "id": "43d4d406",
   "metadata": {},
   "source": [
    "# # Visualizing Decision Trees"
   ]
  },
  {
   "cell_type": "code",
   "execution_count": null,
   "id": "47d1b2e6",
   "metadata": {},
   "outputs": [],
   "source": [
    "import sklearn\n",
    "from matplotlib import pyplot as plt\n",
    "from matplotlib.colors import ListedColormap, to_rgb\n",
    "from sklearn.tree import export_graphviz\n",
    "import graphviz\n",
    "from sklearn import tree\n",
    "from sklearn.tree import DecisionTreeClassifier, plot_tree\n",
    "from sklearn.model_selection import StratifiedKFold\n",
    "from sklearn.model_selection import cross_val_score"
   ]
  },
  {
   "cell_type": "code",
   "execution_count": null,
   "id": "4acdee52",
   "metadata": {},
   "outputs": [],
   "source": [
    "# Retrieve feature names\n",
    "feature_names = list(X_train.columns)\n",
    "print(feature_names)"
   ]
  },
  {
   "cell_type": "code",
   "execution_count": null,
   "id": "5142a2e5",
   "metadata": {},
   "outputs": [],
   "source": [
    "#Create a class to store the dependent variable names for labeling the decision tree\n",
    "# I created it two classes\n",
    "class_namesdr = '0','1' # \n"
   ]
  },
  {
   "cell_type": "code",
   "execution_count": null,
   "id": "6d94f035",
   "metadata": {
    "scrolled": false
   },
   "outputs": [],
   "source": [
    "# Print text representation of decision tree\n",
    "text_representationDR = tree.export_text(DT_drmodel)\n",
    "print(text_representationDR)\n",
    "\n",
    "with open(\"decistion_treeDR.log\", \"w\") as fout:\n",
    "    fout.write(text_representationDR)"
   ]
  },
  {
   "cell_type": "code",
   "execution_count": null,
   "id": "b1f2be4a",
   "metadata": {
    "scrolled": true
   },
   "outputs": [],
   "source": [
    "# plot decision tree for DR\n",
    "plt.figure(figsize=(22, 15))\n",
    "plot_tree(DT_drmodel, \n",
    "        feature_names= feature_names,\n",
    "        class_names=class_namesdr , filled=True)\n",
    "plt.show()"
   ]
  },
  {
   "cell_type": "code",
   "execution_count": null,
   "id": "d491599f",
   "metadata": {},
   "outputs": [],
   "source": [
    "# Visualization of LOW-G\n",
    "dot_data = tree.export_graphviz(DT_drmodel, feature_names= feature_names, class_names=class_namesdr , filled=True) \n",
    "drgraph = graphviz.Source(dot_data, format='png') \n",
    "drgraph.render(\"DRGraph\") \n",
    "dot_data = tree.export_graphviz (DT_drmodel, feature_names= feature_names, class_names=class_namesdr , filled=True,\n",
    "        rounded = True,\n",
    "        special_characters=True)\n",
    "drgraph=graphviz.Source(dot_data) \n",
    "drgraph"
   ]
  },
  {
   "cell_type": "markdown",
   "id": "65960e24",
   "metadata": {},
   "source": [
    "# ROC curve"
   ]
  },
  {
   "cell_type": "code",
   "execution_count": null,
   "id": "23cf829a",
   "metadata": {},
   "outputs": [],
   "source": [
    "#ROC is a plot between Fpositive and true positive rate(tpr).\n",
    "from sklearn.metrics import roc_curve, auc\n",
    "from sklearn.metrics import precision_recall_curve, auc"
   ]
  },
  {
   "cell_type": "code",
   "execution_count": null,
   "id": "28eacecf",
   "metadata": {},
   "outputs": [],
   "source": [
    "#ROC for DR\n",
    "# calculate roc curve\n",
    "#fpr, tpr, thresholds = roc_curve(y_test,y_probs)\n",
    "decisiontree_fpr, decissiontree_tpr, threshold = roc_curve(y_test, y_pred)\n",
    "auc_decisiontree = auc(decisiontree_fpr,decissiontree_tpr)\n",
    "plt.figure(figsize=(5,5), dpi=100)\n",
    "plt.plot([0, 1], [0, 1], linestyle='--', label='No Skill')\n",
    "plt.plot(decisiontree_fpr,decissiontree_tpr, marker='.', label='DT Dynamic Rollover ROC curve (auc = %0.3f)'% auc_decisiontree)\n",
    "plt.title('ROC Curve for Decission Tree Dynamic Rollover ')\n",
    "plt.xlabel('False Positive Rate ')\n",
    "plt.ylabel('True Positive Rate ')\n",
    "plt.legend(loc='lower right')\n",
    "\n",
    "plt.show()"
   ]
  },
  {
   "cell_type": "code",
   "execution_count": null,
   "id": "16703b21",
   "metadata": {},
   "outputs": [],
   "source": [
    "\n",
    "# calculate the no skill line as the proportion of the positive class\n",
    "no_skill = len(y[y==1]) / len(y)\n",
    "# calculation of precision-recall curve for DT LOW-G\n",
    "precision, recall, _ = precision_recall_curve(y_test, y_pred)\n",
    "\n",
    "# The precision-recall curve for lowG\n",
    "pr_auc = auc(recall, precision)\n",
    "print('No Skill PR AUC: %.3f' % auc_scoreNS)\n",
    "# plot precision-recall curve\n",
    "plt.figure(figsize=(8, 8))\n",
    "plt.plot(recall, precision, color='purple', label=f'Precision Recall AUC = {pr_auc:.2f}')\n",
    "# plot the no skill precision-recall curve\n",
    "plt.plot([0, 1], [no_skill, no_skill], linestyle='--', label='No Skill')\n",
    "plt.xlabel('Recall')\n",
    "plt.ylabel('Precision')\n",
    "plt.title('Precision-Recall AUC Curve for Decission Tree Dynamic Rollover ')\n",
    "plt.legend(loc='center left')\n",
    "plt.grid(True)\n",
    "plt.show()\n",
    "\n"
   ]
  },
  {
   "cell_type": "code",
   "execution_count": null,
   "id": "3455dba7",
   "metadata": {},
   "outputs": [],
   "source": [
    "\n"
   ]
  }
 ],
 "metadata": {
  "kernelspec": {
   "display_name": "Python 3 (ipykernel)",
   "language": "python",
   "name": "python3"
  },
  "language_info": {
   "codemirror_mode": {
    "name": "ipython",
    "version": 3
   },
   "file_extension": ".py",
   "mimetype": "text/x-python",
   "name": "python",
   "nbconvert_exporter": "python",
   "pygments_lexer": "ipython3",
   "version": "3.10.9"
  }
 },
 "nbformat": 4,
 "nbformat_minor": 5
}
